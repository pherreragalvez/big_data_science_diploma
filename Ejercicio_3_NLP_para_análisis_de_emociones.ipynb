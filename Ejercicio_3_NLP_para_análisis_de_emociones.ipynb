{
  "nbformat": 4,
  "nbformat_minor": 0,
  "metadata": {
    "kernelspec": {
      "display_name": "R",
      "language": "R",
      "name": "ir"
    },
    "language_info": {
      "codemirror_mode": "r",
      "file_extension": ".r",
      "mimetype": "text/x-r-source",
      "name": "R",
      "pygments_lexer": "r",
      "version": "3.3.1"
    },
    "colab": {
      "provenance": [],
      "include_colab_link": true
    }
  },
  "cells": [
    {
      "cell_type": "markdown",
      "metadata": {
        "id": "view-in-github",
        "colab_type": "text"
      },
      "source": [
        "<a href=\"https://colab.research.google.com/github/pherreragalvez/big_data_science_diploma/blob/main/Ejercicio_3_NLP_para_an%C3%A1lisis_de_emociones.ipynb\" target=\"_parent\"><img src=\"https://colab.research.google.com/assets/colab-badge.svg\" alt=\"Open In Colab\"/></a>"
      ]
    },
    {
      "cell_type": "markdown",
      "metadata": {
        "id": "BhFF63rsMfbI"
      },
      "source": [
        "# Ejercicio 3 - Análisis de emociones en texto no-estructurado (NLP)\n",
        "\n",
        "La idea es realizar un análisis de emociones desde comentarios en medios sociales, por medio de un modelo de clasificación supervisada, que entrega una de 3 posibles clases de emoción.\n",
        "\n",
        "## Contexto: Análisis de Texto de Comentarios en Medios Sociales de diversos países (Chile, Arg, Mex, otros)\n",
        "\n",
        "Este conjunto de datos generado en 2016 por [R:Solver](http://rsolver.com) y compartido parcialmente para este tipo de ejercicios, consiste en dos columnas: el texto del comentario, y una clasificación dentro de las tres alternativas o clases de emoción.\n",
        "\n",
        "El gran objetivo final a resolver con este ejemplo, es analizar una porción de texto y lograr predecir la emoción correspondiente, dentro de 3 posibles clases:\n",
        "\n",
        "*     Enojo\n",
        "*     Sorpresa\n",
        "*     Alegría\n",
        "\n",
        "**CONSIDERACIÓN IMPORTANTE**\n",
        "\n",
        "Se sabe que para lograr buenos resultados se requiere contar con muchos miles de ejemplos y en este ejercicio académico sólo se cuenta con pocos miles por cada clase. En la práctica se podrá apreciar que el desempeño general (accuracy) de los modelos es mediano-bajo (cerca del 50%). Esto, seguramente, podría mejorar recién al contar con varias decenas de miles de ejemplos adicionales a los actuales, lo que se explica por la gran diversidad de terminología encontrada en estos comentarios (son cerca de 20.000 términos o palabras diferentes en este corpus).\n",
        "\n",
        "Por esta razón, el foco está en realizar análisis sobre estos desempeños y sacar conclusiones útiles, hasta cierto punto independiente de los *accuracies* correspondientes. Este ejercicio busca reforzar conceptos desde la perspectiva de quienes ya están adentrándose más en entender el funcionamiento de modelos de clasificación supervisada.\n",
        "\n",
        "---\n",
        "\n",
        "## Instrucciones Generales\n",
        "\n",
        "Se deben contestar las preguntas que se indican en las secciones de \"Preguntas\", más adelante. Se puede recurrir a ejercicios de otras fuentes, así como al material de clases.\n",
        "\n",
        "La entrega se realiza en forma de un informe en formato PDF, utilizando la plantilla de informe que está en http://dcc.rsolver.com/dcc/docs/InformeActividad.docx\n",
        "\n",
        "El informe en formato PDF debe ser subido por sólo uno de los integrantes a la siguiente URL\n",
        "\n",
        "http://aiker.ai/aiker/DocUpload.aspx (*)\n",
        "\n",
        "(*) Si hay problemas en la carga, enviar el PDF a rsandova@ing.puc.cl y cc: ayudante@aiker.ai\n"
      ]
    },
    {
      "cell_type": "markdown",
      "metadata": {
        "id": "nbsvny1wYwsT"
      },
      "source": [
        "## Paso 1: Instalar librerías de modelos de clasificación"
      ]
    },
    {
      "cell_type": "code",
      "metadata": {
        "id": "Yr8D6ajXY2T9",
        "colab": {
          "base_uri": "https://localhost:8080/"
        },
        "outputId": "8ddc99ff-2ce3-4e78-c080-323e15255ec5"
      },
      "source": [
        "install.packages('e1071')\n",
        "install.packages('caret')\n",
        "install.packages('caTools')\n",
        "install.packages('tm')\n",
        "install.packages('rpart')\n",
        "install.packages('SnowballC')\n",
        "install.packages('nnet')"
      ],
      "execution_count": null,
      "outputs": [
        {
          "output_type": "stream",
          "name": "stderr",
          "text": [
            "Installing package into ‘/usr/local/lib/R/site-library’\n",
            "(as ‘lib’ is unspecified)\n",
            "\n",
            "also installing the dependency ‘proxy’\n",
            "\n",
            "\n",
            "Installing package into ‘/usr/local/lib/R/site-library’\n",
            "(as ‘lib’ is unspecified)\n",
            "\n",
            "also installing the dependencies ‘listenv’, ‘parallelly’, ‘future’, ‘globals’, ‘future.apply’, ‘progressr’, ‘numDeriv’, ‘SQUAREM’, ‘lava’, ‘prodlim’, ‘iterators’, ‘Rcpp’, ‘gower’, ‘hardhat’, ‘ipred’, ‘tidyselect’, ‘timeDate’, ‘foreach’, ‘ModelMetrics’, ‘plyr’, ‘pROC’, ‘recipes’, ‘reshape2’\n",
            "\n",
            "\n",
            "Installing package into ‘/usr/local/lib/R/site-library’\n",
            "(as ‘lib’ is unspecified)\n",
            "\n",
            "also installing the dependency ‘bitops’\n",
            "\n",
            "\n",
            "Installing package into ‘/usr/local/lib/R/site-library’\n",
            "(as ‘lib’ is unspecified)\n",
            "\n",
            "also installing the dependencies ‘NLP’, ‘slam’, ‘BH’\n",
            "\n",
            "\n",
            "Installing package into ‘/usr/local/lib/R/site-library’\n",
            "(as ‘lib’ is unspecified)\n",
            "\n",
            "Installing package into ‘/usr/local/lib/R/site-library’\n",
            "(as ‘lib’ is unspecified)\n",
            "\n",
            "Installing package into ‘/usr/local/lib/R/site-library’\n",
            "(as ‘lib’ is unspecified)\n",
            "\n"
          ]
        }
      ]
    },
    {
      "cell_type": "markdown",
      "metadata": {
        "id": "0q3bYb0RM5bx"
      },
      "source": [
        "## Paso 2: Carga de los datos\n",
        "\n",
        "La siguiente celda de código carga los datos desde la URL de origen y luego muestra un encabezado con las primeras filas del dataset, para demostrar la disposición y ejemplos de los datos.\n",
        "\n",
        "**Nótese que hay un desbalance entre los ejemplos de cada una de las 3 clases, pero NO se espera ni se pide modificar esto, lo cual queda a criterio de los alumnos experimentar con re-balancear las clases y ver su desempeño.**\n"
      ]
    },
    {
      "cell_type": "code",
      "metadata": {
        "id": "yIIKPnj-IRE8",
        "colab": {
          "base_uri": "https://localhost:8080/",
          "height": 899
        },
        "outputId": "facbfc18-b7e0-46f9-c550-7e2416e68389"
      },
      "source": [
        "# Se declara la URL de dónde obtener los datos\n",
        "theUrlMain <- \"http://RAlize.RSolver.com/RAlize/data/small_emotion_sample_2016.csv\"\n",
        "\n",
        "# Se declaran los nombres de las columnas\n",
        "columnas <- c(\"texto\",\"emoción\")\n",
        "\n",
        "# Se cargan datos principales a una estructura (commentsdataset), asignando nombres de atributos a las columnas\n",
        "comments.dataset.raw <- read.csv(file = theUrlMain, header = FALSE, sep = \";\", col.names=columnas, skipNul = TRUE)\n",
        "\n",
        "# Conteo de ejemplos de cada clase.\n",
        "# Al ver su dimensión, se puede apreciar si están o no balanceados,\n",
        "# pero no se espera en esta ocasión trabajar en balanceo de clases.\n",
        "data.enojo <- comments.dataset.raw[comments.dataset.raw$emoción == 'enojo',]\n",
        "data.sorpresa <- comments.dataset.raw[comments.dataset.raw$emoción == 'sorpresa',]\n",
        "data.alegria <- comments.dataset.raw[comments.dataset.raw$emoción == 'alegria',]\n",
        "cat(\"\\nEjemplos Enojo:     \", dim(data.enojo))\n",
        "cat(\"\\nEjemplos Sorpresa:  \", dim(data.sorpresa))\n",
        "cat(\"\\nEjemplos Alegría:   \", dim(data.alegria))\n",
        "\n",
        "commentsdataset <- comments.dataset.raw\n",
        "dim(commentsdataset)\n",
        "head(commentsdataset, 20)"
      ],
      "execution_count": null,
      "outputs": [
        {
          "output_type": "stream",
          "name": "stdout",
          "text": [
            "\n",
            "Ejemplos Enojo:      3054 2\n",
            "Ejemplos Sorpresa:   1085 2\n",
            "Ejemplos Alegría:    2762 2"
          ]
        },
        {
          "output_type": "display_data",
          "data": {
            "text/html": [
              "<style>\n",
              ".list-inline {list-style: none; margin:0; padding: 0}\n",
              ".list-inline>li {display: inline-block}\n",
              ".list-inline>li:not(:last-child)::after {content: \"\\00b7\"; padding: 0 .5ex}\n",
              "</style>\n",
              "<ol class=list-inline><li>6901</li><li>2</li></ol>\n"
            ],
            "text/markdown": "1. 6901\n2. 2\n\n\n",
            "text/latex": "\\begin{enumerate*}\n\\item 6901\n\\item 2\n\\end{enumerate*}\n",
            "text/plain": [
              "[1] 6901    2"
            ]
          },
          "metadata": {}
        },
        {
          "output_type": "display_data",
          "data": {
            "text/html": [
              "<table class=\"dataframe\">\n",
              "<caption>A data.frame: 20 × 2</caption>\n",
              "<thead>\n",
              "\t<tr><th></th><th scope=col>texto</th><th scope=col>emoción</th></tr>\n",
              "\t<tr><th></th><th scope=col>&lt;chr&gt;</th><th scope=col>&lt;chr&gt;</th></tr>\n",
              "</thead>\n",
              "<tbody>\n",
              "\t<tr><th scope=row>1</th><td>!FAVOR REVISAR DICCIONARIO !                                                                                                                                                                                                                                                                                                                                                                                                                                                                                                                                                                                                                                                                                                                                                                                                                   </td><td>enojo   </td></tr>\n",
              "\t<tr><th scope=row>2</th><td>?El Dodge Challenger cuantos kilometros por litro dara? Esa es mi consulta                                                                                                                                                                                                                                                                                                                                                                                                                                                                                                                                                                                                                                                                                                                                                                     </td><td>sorpresa</td></tr>\n",
              "\t<tr><th scope=row>3</th><td>el trasero trailer de la version en carne y hueso , esos redactores merecen el premio redactor de excelencia jajaj                                                                                                                                                                                                                                                                                                                                                                                                                                                                                                                                                                                                                                                                                                                             </td><td>alegria </td></tr>\n",
              "\t<tr><th scope=row>4</th><td>No sera un Peruano o Boliviano que lo hace para que sancionen a Chile ? Hay que acordarse de la guerra mediatica y todos los reclamos de parte de Evo A ese Evo tambien se le sospecha que fue quien dio la orden del reclamo boliviano por los canticos en el estadio                                                                                                                                                                                                                                                                                                                                                                                                                                                                                                                                                                         </td><td>enojo   </td></tr>\n",
              "\t<tr><th scope=row>5</th><td> Y Renaca y Concon para levantar carpas en la playa                                                                                                                                                                                                                                                                                                                                                                                                                                                                                                                                                                                                                                                                                                                                                                                            </td><td>sorpresa</td></tr>\n",
              "\t<tr><th scope=row>6</th><td>Yo siempre compro por internet pero cada vez que hay Cyber Monday termino decepcionado, es mas la publicidad que reales ofertas                                                                                                                                                                                                                                                                                                                                                                                                                                                                                                                                                                                                                                                                                                                </td><td>enojo   </td></tr>\n",
              "\t<tr><th scope=row>7</th><td>! Arjonaaaa !!!!! !Este otro ano vas fijo !!!!                                                                                                                                                                                                                                                                                                                                                                                                                                                                                                                                                                                                                                                                                                                                                                                                 </td><td>sorpresa</td></tr>\n",
              "\t<tr><th scope=row>8</th><td>!Partidazo!                                                                                                                                                                                                                                                                                                                                                                                                                                                                                                                                                                                                                                                                                                                                                                                                                                    </td><td>alegria </td></tr>\n",
              "\t<tr><th scope=row>9</th><td>Medicion de pobreza, mas moderna y transparente: En enero de 2014 la Comision para la Medicion de la Pobreza, planteo un conjunto de propuestas de actualizacion de la metodologia de medicion de pobreza por ingresos, asi como la incorporacion de un enfoque de medicion multidimensional Sus sugerencias fueron recibidas por el gobierno de la Presidenta Bachelet y analizadas en detalle durante 2014 por una Mesa Tecnica Interinstitucional, conformada por el Ministerio de Desarrollo Social (MDS) y el Instituto Nacional de Estadisticas (INE), con el apoyo tecnico de Comision Economica para America Latina (CEPAL) En el ambito de la pobreza multidimensional, se conto ademas con la asesoria permanente de la Iniciativa para la Pobreza y el Desarrollo Humano de la Universidad de Oxford (OPHI, por su sigla en ingles) </td><td>sorpresa</td></tr>\n",
              "\t<tr><th scope=row>10</th><td>No tienen corazon de madre ni de padre obvio, no son sus hijos Indignate lo que esta pasando                                                                                                                                                                                                                                                                                                                                                                                                                                                                                                                                                                                                                                                                                                                                                   </td><td>enojo   </td></tr>\n",
              "\t<tr><th scope=row>11</th><td>Ahora van hacer paros tomas y demas por perder la excelencia a estudiar sera mejor miren que vienen las bacas flacas ayuden asus viejos mejor que arto nos cuesta mandarlos a estudiar ninis                                                                                                                                                                                                                                                                                                                                                                                                                                                                                                                                                                                                                                                   </td><td>enojo   </td></tr>\n",
              "\t<tr><th scope=row>12</th><td>Y el capitán del equipo ???                                                                                                                                                                                                                                                                                                                                                                                                                                                                                                                                                                                                                                                                                                                                                                                                                    </td><td>sorpresa</td></tr>\n",
              "\t<tr><th scope=row>13</th><td>Te amo Alemania                                                                                                                                                                                                                                                                                                                                                                                                                                                                                                                                                                                                                                                                                                                                                                                                                                </td><td>alegria </td></tr>\n",
              "\t<tr><th scope=row>14</th><td>Alguien piensa que las personas que las que residen en una determinada comuna iran a otra para votar por alcaldes ajenos a su propia comuna?                                                                                                                                                                                                                                                                                                                                                                                                                                                                                                                                                                                                                                                                                                   </td><td>enojo   </td></tr>\n",
              "\t<tr><th scope=row>15</th><td> ?Como se les ocurrio invitar a tamano drogo?                                                                                                                                                                                                                                                                                                                                                                                                                                                                                                                                                                                                                                                                                                                                                                                                  </td><td>enojo   </td></tr>\n",
              "\t<tr><th scope=row>16</th><td> ?Crecimiento desmedido de la ciudad? : la edilicia inmobiliaria no inventa la gente ni a los ciudadanos, solo les proporciona soluciones habitacionales Claro esta que si aun vivieramos en los arboles o en las cavernas no habria problemas de estructura sismica y el que alguien construya y venda a precios razonables o codiciosos en nada afecta la resistencia| sismica del edificio Las casas o los edificios se caen o resisten porque estan bien o mal hechos, no porque alguien los vendio y gano dinero con eso!!!!!!!!!                                                                                                                                                                                                                                                                                                         </td><td>enojo   </td></tr>\n",
              "\t<tr><th scope=row>17</th><td> ?En serio? ?Esa es la alternativa oficial o la que tu usarias?                                                                                                                                                                                                                                                                                                                                                                                                                                                                                                                                                                                                                                                                                                                                                                                </td><td>enojo   </td></tr>\n",
              "\t<tr><th scope=row>18</th><td> ?Les van a cobrar algo?                                                                                                                                                                                                                                                                                                                                                                                                                                                                                                                                                                                                                                                                                                                                                                                                                       </td><td>sorpresa</td></tr>\n",
              "\t<tr><th scope=row>19</th><td> ?Porque no anexamos Haiti a nuestra soberania? estan llegando aviones completos repletos de haitianos y todos ellos son carga del estado en terminos de salud y seguridad social ?Quien les paga el viaje? un misterio, viajar seis mil kilometros desde el Atlantico no es nada de barato                                                                                                                                                                                                                                                                                                                                                                                                                                                                                                                                                    </td><td>sorpresa</td></tr>\n",
              "\t<tr><th scope=row>20</th><td> ?Quien se rie ahora de Donald Trump? Youtube link                                                                                                                                                                                                                                                                                                                                                                                                                                                                                                                                                                                                                                                                                                                                                                                             </td><td>sorpresa</td></tr>\n",
              "</tbody>\n",
              "</table>\n"
            ],
            "text/markdown": "\nA data.frame: 20 × 2\n\n| <!--/--> | texto &lt;chr&gt; | emoción &lt;chr&gt; |\n|---|---|---|\n| 1 | !FAVOR REVISAR DICCIONARIO !                                                                                                                                                                                                                                                                                                                                                                                                                                                                                                                                                                                                                                                                                                                                                                                                                    | enojo    |\n| 2 | ?El Dodge Challenger cuantos kilometros por litro dara? Esa es mi consulta                                                                                                                                                                                                                                                                                                                                                                                                                                                                                                                                                                                                                                                                                                                                                                      | sorpresa |\n| 3 | el trasero trailer de la version en carne y hueso , esos redactores merecen el premio redactor de excelencia jajaj                                                                                                                                                                                                                                                                                                                                                                                                                                                                                                                                                                                                                                                                                                                              | alegria  |\n| 4 | No sera un Peruano o Boliviano que lo hace para que sancionen a Chile ? Hay que acordarse de la guerra mediatica y todos los reclamos de parte de Evo A ese Evo tambien se le sospecha que fue quien dio la orden del reclamo boliviano por los canticos en el estadio                                                                                                                                                                                                                                                                                                                                                                                                                                                                                                                                                                          | enojo    |\n| 5 |  Y Renaca y Concon para levantar carpas en la playa                                                                                                                                                                                                                                                                                                                                                                                                                                                                                                                                                                                                                                                                                                                                                                                             | sorpresa |\n| 6 | Yo siempre compro por internet pero cada vez que hay Cyber Monday termino decepcionado, es mas la publicidad que reales ofertas                                                                                                                                                                                                                                                                                                                                                                                                                                                                                                                                                                                                                                                                                                                 | enojo    |\n| 7 | ! Arjonaaaa !!!!! !Este otro ano vas fijo !!!!                                                                                                                                                                                                                                                                                                                                                                                                                                                                                                                                                                                                                                                                                                                                                                                                  | sorpresa |\n| 8 | !Partidazo!                                                                                                                                                                                                                                                                                                                                                                                                                                                                                                                                                                                                                                                                                                                                                                                                                                     | alegria  |\n| 9 | Medicion de pobreza, mas moderna y transparente: En enero de 2014 la Comision para la Medicion de la Pobreza, planteo un conjunto de propuestas de actualizacion de la metodologia de medicion de pobreza por ingresos, asi como la incorporacion de un enfoque de medicion multidimensional Sus sugerencias fueron recibidas por el gobierno de la Presidenta Bachelet y analizadas en detalle durante 2014 por una Mesa Tecnica Interinstitucional, conformada por el Ministerio de Desarrollo Social (MDS) y el Instituto Nacional de Estadisticas (INE), con el apoyo tecnico de Comision Economica para America Latina (CEPAL) En el ambito de la pobreza multidimensional, se conto ademas con la asesoria permanente de la Iniciativa para la Pobreza y el Desarrollo Humano de la Universidad de Oxford (OPHI, por su sigla en ingles)  | sorpresa |\n| 10 | No tienen corazon de madre ni de padre obvio, no son sus hijos Indignate lo que esta pasando                                                                                                                                                                                                                                                                                                                                                                                                                                                                                                                                                                                                                                                                                                                                                    | enojo    |\n| 11 | Ahora van hacer paros tomas y demas por perder la excelencia a estudiar sera mejor miren que vienen las bacas flacas ayuden asus viejos mejor que arto nos cuesta mandarlos a estudiar ninis                                                                                                                                                                                                                                                                                                                                                                                                                                                                                                                                                                                                                                                    | enojo    |\n| 12 | Y el capitán del equipo ???                                                                                                                                                                                                                                                                                                                                                                                                                                                                                                                                                                                                                                                                                                                                                                                                                     | sorpresa |\n| 13 | Te amo Alemania                                                                                                                                                                                                                                                                                                                                                                                                                                                                                                                                                                                                                                                                                                                                                                                                                                 | alegria  |\n| 14 | Alguien piensa que las personas que las que residen en una determinada comuna iran a otra para votar por alcaldes ajenos a su propia comuna?                                                                                                                                                                                                                                                                                                                                                                                                                                                                                                                                                                                                                                                                                                    | enojo    |\n| 15 |  ?Como se les ocurrio invitar a tamano drogo?                                                                                                                                                                                                                                                                                                                                                                                                                                                                                                                                                                                                                                                                                                                                                                                                   | enojo    |\n| 16 |  ?Crecimiento desmedido de la ciudad? : la edilicia inmobiliaria no inventa la gente ni a los ciudadanos, solo les proporciona soluciones habitacionales Claro esta que si aun vivieramos en los arboles o en las cavernas no habria problemas de estructura sismica y el que alguien construya y venda a precios razonables o codiciosos en nada afecta la resistencia| sismica del edificio Las casas o los edificios se caen o resisten porque estan bien o mal hechos, no porque alguien los vendio y gano dinero con eso!!!!!!!!!                                                                                                                                                                                                                                                                                                          | enojo    |\n| 17 |  ?En serio? ?Esa es la alternativa oficial o la que tu usarias?                                                                                                                                                                                                                                                                                                                                                                                                                                                                                                                                                                                                                                                                                                                                                                                 | enojo    |\n| 18 |  ?Les van a cobrar algo?                                                                                                                                                                                                                                                                                                                                                                                                                                                                                                                                                                                                                                                                                                                                                                                                                        | sorpresa |\n| 19 |  ?Porque no anexamos Haiti a nuestra soberania? estan llegando aviones completos repletos de haitianos y todos ellos son carga del estado en terminos de salud y seguridad social ?Quien les paga el viaje? un misterio, viajar seis mil kilometros desde el Atlantico no es nada de barato                                                                                                                                                                                                                                                                                                                                                                                                                                                                                                                                                     | sorpresa |\n| 20 |  ?Quien se rie ahora de Donald Trump? Youtube link                                                                                                                                                                                                                                                                                                                                                                                                                                                                                                                                                                                                                                                                                                                                                                                              | sorpresa |\n\n",
            "text/latex": "A data.frame: 20 × 2\n\\begin{tabular}{r|ll}\n  & texto & emoción\\\\\n  & <chr> & <chr>\\\\\n\\hline\n\t1 & !FAVOR REVISAR DICCIONARIO !                                                                                                                                                                                                                                                                                                                                                                                                                                                                                                                                                                                                                                                                                                                                                                                                                    & enojo   \\\\\n\t2 & ?El Dodge Challenger cuantos kilometros por litro dara? Esa es mi consulta                                                                                                                                                                                                                                                                                                                                                                                                                                                                                                                                                                                                                                                                                                                                                                      & sorpresa\\\\\n\t3 & el trasero trailer de la version en carne y hueso , esos redactores merecen el premio redactor de excelencia jajaj                                                                                                                                                                                                                                                                                                                                                                                                                                                                                                                                                                                                                                                                                                                              & alegria \\\\\n\t4 & No sera un Peruano o Boliviano que lo hace para que sancionen a Chile ? Hay que acordarse de la guerra mediatica y todos los reclamos de parte de Evo A ese Evo tambien se le sospecha que fue quien dio la orden del reclamo boliviano por los canticos en el estadio                                                                                                                                                                                                                                                                                                                                                                                                                                                                                                                                                                          & enojo   \\\\\n\t5 &  Y Renaca y Concon para levantar carpas en la playa                                                                                                                                                                                                                                                                                                                                                                                                                                                                                                                                                                                                                                                                                                                                                                                             & sorpresa\\\\\n\t6 & Yo siempre compro por internet pero cada vez que hay Cyber Monday termino decepcionado, es mas la publicidad que reales ofertas                                                                                                                                                                                                                                                                                                                                                                                                                                                                                                                                                                                                                                                                                                                 & enojo   \\\\\n\t7 & ! Arjonaaaa !!!!! !Este otro ano vas fijo !!!!                                                                                                                                                                                                                                                                                                                                                                                                                                                                                                                                                                                                                                                                                                                                                                                                  & sorpresa\\\\\n\t8 & !Partidazo!                                                                                                                                                                                                                                                                                                                                                                                                                                                                                                                                                                                                                                                                                                                                                                                                                                     & alegria \\\\\n\t9 & Medicion de pobreza, mas moderna y transparente: En enero de 2014 la Comision para la Medicion de la Pobreza, planteo un conjunto de propuestas de actualizacion de la metodologia de medicion de pobreza por ingresos, asi como la incorporacion de un enfoque de medicion multidimensional Sus sugerencias fueron recibidas por el gobierno de la Presidenta Bachelet y analizadas en detalle durante 2014 por una Mesa Tecnica Interinstitucional, conformada por el Ministerio de Desarrollo Social (MDS) y el Instituto Nacional de Estadisticas (INE), con el apoyo tecnico de Comision Economica para America Latina (CEPAL) En el ambito de la pobreza multidimensional, se conto ademas con la asesoria permanente de la Iniciativa para la Pobreza y el Desarrollo Humano de la Universidad de Oxford (OPHI, por su sigla en ingles)  & sorpresa\\\\\n\t10 & No tienen corazon de madre ni de padre obvio, no son sus hijos Indignate lo que esta pasando                                                                                                                                                                                                                                                                                                                                                                                                                                                                                                                                                                                                                                                                                                                                                    & enojo   \\\\\n\t11 & Ahora van hacer paros tomas y demas por perder la excelencia a estudiar sera mejor miren que vienen las bacas flacas ayuden asus viejos mejor que arto nos cuesta mandarlos a estudiar ninis                                                                                                                                                                                                                                                                                                                                                                                                                                                                                                                                                                                                                                                    & enojo   \\\\\n\t12 & Y el capitán del equipo ???                                                                                                                                                                                                                                                                                                                                                                                                                                                                                                                                                                                                                                                                                                                                                                                                                     & sorpresa\\\\\n\t13 & Te amo Alemania                                                                                                                                                                                                                                                                                                                                                                                                                                                                                                                                                                                                                                                                                                                                                                                                                                 & alegria \\\\\n\t14 & Alguien piensa que las personas que las que residen en una determinada comuna iran a otra para votar por alcaldes ajenos a su propia comuna?                                                                                                                                                                                                                                                                                                                                                                                                                                                                                                                                                                                                                                                                                                    & enojo   \\\\\n\t15 &  ?Como se les ocurrio invitar a tamano drogo?                                                                                                                                                                                                                                                                                                                                                                                                                                                                                                                                                                                                                                                                                                                                                                                                   & enojo   \\\\\n\t16 &  ?Crecimiento desmedido de la ciudad? : la edilicia inmobiliaria no inventa la gente ni a los ciudadanos, solo les proporciona soluciones habitacionales Claro esta que si aun vivieramos en los arboles o en las cavernas no habria problemas de estructura sismica y el que alguien construya y venda a precios razonables o codiciosos en nada afecta la resistencia\\textbar{} sismica del edificio Las casas o los edificios se caen o resisten porque estan bien o mal hechos, no porque alguien los vendio y gano dinero con eso!!!!!!!!!                                                                                                                                                                                                                                                                                                          & enojo   \\\\\n\t17 &  ?En serio? ?Esa es la alternativa oficial o la que tu usarias?                                                                                                                                                                                                                                                                                                                                                                                                                                                                                                                                                                                                                                                                                                                                                                                 & enojo   \\\\\n\t18 &  ?Les van a cobrar algo?                                                                                                                                                                                                                                                                                                                                                                                                                                                                                                                                                                                                                                                                                                                                                                                                                        & sorpresa\\\\\n\t19 &  ?Porque no anexamos Haiti a nuestra soberania? estan llegando aviones completos repletos de haitianos y todos ellos son carga del estado en terminos de salud y seguridad social ?Quien les paga el viaje? un misterio, viajar seis mil kilometros desde el Atlantico no es nada de barato                                                                                                                                                                                                                                                                                                                                                                                                                                                                                                                                                     & sorpresa\\\\\n\t20 &  ?Quien se rie ahora de Donald Trump? Youtube link                                                                                                                                                                                                                                                                                                                                                                                                                                                                                                                                                                                                                                                                                                                                                                                              & sorpresa\\\\\n\\end{tabular}\n",
            "text/plain": [
              "   texto                                                                                                                                                                                                                                                                                                                                                                                                                                                                                                                                                                                                                                                                                                                                                                                                                                          \n",
              "1  !FAVOR REVISAR DICCIONARIO !                                                                                                                                                                                                                                                                                                                                                                                                                                                                                                                                                                                                                                                                                                                                                                                                                   \n",
              "2  ?El Dodge Challenger cuantos kilometros por litro dara? Esa es mi consulta                                                                                                                                                                                                                                                                                                                                                                                                                                                                                                                                                                                                                                                                                                                                                                     \n",
              "3  el trasero trailer de la version en carne y hueso , esos redactores merecen el premio redactor de excelencia jajaj                                                                                                                                                                                                                                                                                                                                                                                                                                                                                                                                                                                                                                                                                                                             \n",
              "4  No sera un Peruano o Boliviano que lo hace para que sancionen a Chile ? Hay que acordarse de la guerra mediatica y todos los reclamos de parte de Evo A ese Evo tambien se le sospecha que fue quien dio la orden del reclamo boliviano por los canticos en el estadio                                                                                                                                                                                                                                                                                                                                                                                                                                                                                                                                                                         \n",
              "5   Y Renaca y Concon para levantar carpas en la playa                                                                                                                                                                                                                                                                                                                                                                                                                                                                                                                                                                                                                                                                                                                                                                                            \n",
              "6  Yo siempre compro por internet pero cada vez que hay Cyber Monday termino decepcionado, es mas la publicidad que reales ofertas                                                                                                                                                                                                                                                                                                                                                                                                                                                                                                                                                                                                                                                                                                                \n",
              "7  ! Arjonaaaa !!!!! !Este otro ano vas fijo !!!!                                                                                                                                                                                                                                                                                                                                                                                                                                                                                                                                                                                                                                                                                                                                                                                                 \n",
              "8  !Partidazo!                                                                                                                                                                                                                                                                                                                                                                                                                                                                                                                                                                                                                                                                                                                                                                                                                                    \n",
              "9  Medicion de pobreza, mas moderna y transparente: En enero de 2014 la Comision para la Medicion de la Pobreza, planteo un conjunto de propuestas de actualizacion de la metodologia de medicion de pobreza por ingresos, asi como la incorporacion de un enfoque de medicion multidimensional Sus sugerencias fueron recibidas por el gobierno de la Presidenta Bachelet y analizadas en detalle durante 2014 por una Mesa Tecnica Interinstitucional, conformada por el Ministerio de Desarrollo Social (MDS) y el Instituto Nacional de Estadisticas (INE), con el apoyo tecnico de Comision Economica para America Latina (CEPAL) En el ambito de la pobreza multidimensional, se conto ademas con la asesoria permanente de la Iniciativa para la Pobreza y el Desarrollo Humano de la Universidad de Oxford (OPHI, por su sigla en ingles) \n",
              "10 No tienen corazon de madre ni de padre obvio, no son sus hijos Indignate lo que esta pasando                                                                                                                                                                                                                                                                                                                                                                                                                                                                                                                                                                                                                                                                                                                                                   \n",
              "11 Ahora van hacer paros tomas y demas por perder la excelencia a estudiar sera mejor miren que vienen las bacas flacas ayuden asus viejos mejor que arto nos cuesta mandarlos a estudiar ninis                                                                                                                                                                                                                                                                                                                                                                                                                                                                                                                                                                                                                                                   \n",
              "12 Y el capitán del equipo ???                                                                                                                                                                                                                                                                                                                                                                                                                                                                                                                                                                                                                                                                                                                                                                                                                    \n",
              "13 Te amo Alemania                                                                                                                                                                                                                                                                                                                                                                                                                                                                                                                                                                                                                                                                                                                                                                                                                                \n",
              "14 Alguien piensa que las personas que las que residen en una determinada comuna iran a otra para votar por alcaldes ajenos a su propia comuna?                                                                                                                                                                                                                                                                                                                                                                                                                                                                                                                                                                                                                                                                                                   \n",
              "15  ?Como se les ocurrio invitar a tamano drogo?                                                                                                                                                                                                                                                                                                                                                                                                                                                                                                                                                                                                                                                                                                                                                                                                  \n",
              "16  ?Crecimiento desmedido de la ciudad? : la edilicia inmobiliaria no inventa la gente ni a los ciudadanos, solo les proporciona soluciones habitacionales Claro esta que si aun vivieramos en los arboles o en las cavernas no habria problemas de estructura sismica y el que alguien construya y venda a precios razonables o codiciosos en nada afecta la resistencia| sismica del edificio Las casas o los edificios se caen o resisten porque estan bien o mal hechos, no porque alguien los vendio y gano dinero con eso!!!!!!!!!                                                                                                                                                                                                                                                                                                         \n",
              "17  ?En serio? ?Esa es la alternativa oficial o la que tu usarias?                                                                                                                                                                                                                                                                                                                                                                                                                                                                                                                                                                                                                                                                                                                                                                                \n",
              "18  ?Les van a cobrar algo?                                                                                                                                                                                                                                                                                                                                                                                                                                                                                                                                                                                                                                                                                                                                                                                                                       \n",
              "19  ?Porque no anexamos Haiti a nuestra soberania? estan llegando aviones completos repletos de haitianos y todos ellos son carga del estado en terminos de salud y seguridad social ?Quien les paga el viaje? un misterio, viajar seis mil kilometros desde el Atlantico no es nada de barato                                                                                                                                                                                                                                                                                                                                                                                                                                                                                                                                                    \n",
              "20  ?Quien se rie ahora de Donald Trump? Youtube link                                                                                                                                                                                                                                                                                                                                                                                                                                                                                                                                                                                                                                                                                                                                                                                             \n",
              "   emoción \n",
              "1  enojo   \n",
              "2  sorpresa\n",
              "3  alegria \n",
              "4  enojo   \n",
              "5  sorpresa\n",
              "6  enojo   \n",
              "7  sorpresa\n",
              "8  alegria \n",
              "9  sorpresa\n",
              "10 enojo   \n",
              "11 enojo   \n",
              "12 sorpresa\n",
              "13 alegria \n",
              "14 enojo   \n",
              "15 enojo   \n",
              "16 enojo   \n",
              "17 enojo   \n",
              "18 sorpresa\n",
              "19 sorpresa\n",
              "20 sorpresa"
            ]
          },
          "metadata": {}
        }
      ]
    },
    {
      "cell_type": "markdown",
      "metadata": {
        "id": "VGOO7LFAPDL5"
      },
      "source": [
        "## Ejercicio 1: Entender el efecto de cada técnica de normalización de texto\n",
        "\n",
        "Las técnicas de procesamiento de texto, cuando tienen que realizar análisis del texto leído, deben buscar la simplificación del texto para poder trabajar sobre un universo de términos más simple y normalizado. Esto puede considerar eliminar tildes, evitar palabras comunes, usar la raíz de múltiples términos, entre otros.\n",
        "\n",
        "A continuación se aplican estas diferentes técnicas, permitiendo ver el efecto (potencialmente positivo) de cada una de ellas.\n",
        "\n",
        "**Pregunta 1 (2 puntos)**: ¿cuál de todas estas técnicas es la que logra el mayor efecto positivo en los modelos de análisis de sentimiento de la siguiente sección?\n",
        "\n",
        "La idea es eliminar (comentar la línea de código respectivo) cada instrucción de normalización y comparar cómo afecta en el accuracy de los modelos más abajo (se puede enfocar sólo en el Árbol, que toma menos tiempo de ejecución, para ver su desempeño según estos cambios), finalmente determinando cuál es la que tiene mayor efecto. Aquella técnica que tiene más efecto es la que provoca que - al ser eliminada - el accuracy del o los modelos implementados más adelante empeore más. Se pide incluir una tabla de ejecuciones comparadas, que sustente la respuesta.\n"
      ]
    },
    {
      "cell_type": "code",
      "metadata": {
        "id": "w-RkhmupJGPI",
        "colab": {
          "base_uri": "https://localhost:8080/",
          "height": 260
        },
        "outputId": "d681c905-e13d-47f8-9325-c40d4fa4bc99"
      },
      "source": [
        "library(tm)\n",
        "library(SnowballC)\n",
        "\n",
        "# Construye el Corpus: el universo de texto que se usará para entrenar los modelos.\n",
        "corpus.original <- Corpus(VectorSource(commentsdataset$texto))\n",
        "\n",
        "# Se selecciona y muestra (sin normalizar) un comentario de ejemplo aleatorio dentro del corpus\n",
        "random_index <- floor(runif(1, min=0, max=length(corpus.original)))\n",
        "content(corpus.original[[random_index]])\n",
        "\n",
        "################################\n",
        "# NORMALIZACIÓN DEL TEXTO\n",
        "# EJERCICIO: probar eliminando (comentando anteponiendo #) una por una estas acciones,\n",
        "# para ver cuál tiene mayor efecto en la calidad del modelo de análisis\n",
        "################################\n",
        "# Se saca una copia ('corpus') de trabajo, para no alterar el original\n",
        "corpus <- corpus.original\n",
        "\n",
        "# Se pasan todas las palabras a minúsculas\n",
        "corpus <- tm_map(corpus, tolower)\n",
        "# Se eliminan todos los signos de puntuación\n",
        "corpus <- tm_map(corpus, removePunctuation)\n",
        "# Se eliminan todos los números\n",
        "corpus <- tm_map(corpus, removeNumbers)\n",
        "# Se eliminan las stop words (palabras comunes, irrelevantes)\n",
        "corpus <- tm_map(corpus, removeWords, c(stopwords(\"spanish\")))\n",
        "# Se lleva cada palabra a su raíz (stemming)\n",
        "corpus <- tm_map(corpus, stemDocument)\n",
        "\n",
        "# Se muestra el mismo ejemplo aleatorio, pero en texto normalizado\n",
        "content(corpus[[random_index]])\n"
      ],
      "execution_count": null,
      "outputs": [
        {
          "output_type": "stream",
          "name": "stderr",
          "text": [
            "Loading required package: NLP\n",
            "\n"
          ]
        },
        {
          "output_type": "display_data",
          "data": {
            "text/html": [
              "<span style=white-space:pre-wrap>'ESPERA JAJAJA ESTA HA SIDO BUENA JAJJAJA  ENSERIO'</span>"
            ],
            "text/markdown": "<span style=white-space:pre-wrap>'ESPERA JAJAJA ESTA HA SIDO BUENA JAJJAJA  ENSERIO'</span>",
            "text/latex": "'ESPERA JAJAJA ESTA HA SIDO BUENA JAJJAJA  ENSERIO'",
            "text/plain": [
              "[1] \"ESPERA JAJAJA ESTA HA SIDO BUENA JAJJAJA  ENSERIO\""
            ]
          },
          "metadata": {}
        },
        {
          "output_type": "stream",
          "name": "stderr",
          "text": [
            "Warning message in tm_map.SimpleCorpus(corpus, tolower):\n",
            "“transformation drops documents”\n",
            "Warning message in tm_map.SimpleCorpus(corpus, removePunctuation):\n",
            "“transformation drops documents”\n",
            "Warning message in tm_map.SimpleCorpus(corpus, removeNumbers):\n",
            "“transformation drops documents”\n",
            "Warning message in tm_map.SimpleCorpus(corpus, removeWords, c(stopwords(\"spanish\"))):\n",
            "“transformation drops documents”\n",
            "Warning message in tm_map.SimpleCorpus(corpus, stemDocument):\n",
            "“transformation drops documents”\n"
          ]
        },
        {
          "output_type": "display_data",
          "data": {
            "text/html": [
              "'espera jajaja buena jajjaja enserio'"
            ],
            "text/markdown": "'espera jajaja buena jajjaja enserio'",
            "text/latex": "'espera jajaja buena jajjaja enserio'",
            "text/plain": [
              "[1] \"espera jajaja buena jajjaja enserio\""
            ]
          },
          "metadata": {}
        }
      ]
    },
    {
      "cell_type": "markdown",
      "metadata": {
        "id": "9m6AjrGNtf3x"
      },
      "source": [
        "## Ejercicio 2: Construcción de un Vocabulario con Términos Significativos\n",
        "\n",
        "Los clasificadores reciben un X de entrada de una dimensión fija. Por lo tanto los X de este ejemplo de análisis de texto, comentarios de cantidad variable de palabras, no se pueden usar tal cual vienen.\n",
        "\n",
        "Por ello, la siguiente porción de código transforma los comentarios de texto variable en un vector de ocurrencia de palabras desde un vocabulario, el cual se construye referenciando todas las palabras distintas (ya normalizadas) del Corpus. Esto se traduce en que un comentario que tiene la expresión \".. resultados excelentes ... \", tendría una intersección con el comentario \"... excelente como resultó ...\" y por ello podrían ser interpretadas en forma equivalente.\n",
        "\n",
        "Pero el desafío de esta vectorización en base a un vocabulario es la cantidad de dimensiones. Un vocabulario perfectamente puede tener varios miles de palabras diferentes (ver resultado en 2.A), entonces la dimensión del vector X es de esos varios miles.\n",
        "\n",
        "Esto motiva a reducir la dimensionalidad del problema (el tamaño del vocabulario) al reconocer cuáles son los términos más relevantes. Esto se hace con removeSparseTerm() y un umbral alto (0.995 reduce la gran cantidad de términos que aparecen tienen al menos un 99.5% de 0s en la columna), como se ve en en 2.B. Mientras mayor es el número, mayor cantidad de términos ocasionales o esporádicos se conservan. En otras palabras, mientras menor es el número, mayor es la exigencia para un término de ser considerado valioso y quedar como parte del dataset. (https://www.rdocumentation.org/packages/tm/versions/0.7-8/topics/removeSparseTerms)\n",
        "\n",
        "**Pregunta 2.1 (1 punto)** ¿cuál es el valor usado en removeSparseTerm() para lograr mejores resultados en los modelos de clasificación?\n",
        "\n",
        "**Pregunta 2.2 (1 punto)** ¿cómo se interpreta el mejor/peor resultado con más o menos términos considerados (o columnas del dataset)?\n",
        "\n",
        "Para ambas preguntas pueden elegir evaluar los resultados del Árbol de Decisión solamente, o también considerar la Red Neuronal (que toma mucho tiempo de ejecución; por eso se deja su ejecución opcional)\n"
      ]
    },
    {
      "cell_type": "code",
      "metadata": {
        "id": "_3uvXCD-MdZr",
        "colab": {
          "base_uri": "https://localhost:8080/",
          "height": 69
        },
        "outputId": "c04b3521-3085-4d35-fe7a-364abcfc7b0a"
      },
      "source": [
        "#######################################################\n",
        "# Indexación de términos: creación de un Vocabulario\n",
        "#######################################################\n",
        "\n",
        "# Primero una matriz de ocurrencia de términos o palabras (DTM: Document-term matrix).\n",
        "# Las filas son los comentarios y las columnas son las palabras diferentes encontradas (varios miles).\n",
        "termMatrix <- DocumentTermMatrix(corpus)\n",
        "dim(termMatrix)   # Resultado 2.A -> Las columnas son todos los términos diferentes encontrados en corpus\n",
        "\n",
        "# Entonces, se eliminan las palabras menos relevantes (sparse terms: términos dispersos)\n",
        "# lo que resulta en una reducción dimensional (potencialmente grande)\n",
        "# Ejercicio 2.1: ¿qué factor de eliminación (en rango 0.99x) da mejores resultados? Probar cambiando x entre 0 y 9.\n",
        "# Ejercicio 2.2: ¿qué implica o cómo se interpreta ese cambio de valor y su efecto en el dataset?\n",
        "termMatrixLight <- removeSparseTerms(termMatrix, 0.997)\n",
        "dim(termMatrixLight)  # Resultado 2.B -> Se puede ver que se reduce significativamente la cantidad de columnas (palabras)\n",
        "\n",
        "# Re-formatea como un DataFrame\n",
        "corpus.procesado <- as.data.frame(as.matrix(termMatrixLight))\n",
        "\n",
        "# Se construye el dataset para entrenamiento, recuperando el comentario original, sin procesar\n",
        "# agregando la columna \"emoción\"\n",
        "corpus.procesado$emoción <- as.factor(commentsdataset$emoción)\n",
        "\n",
        "# Se muestra el vocabulario y su tamaño\n",
        "dim(corpus.procesado)"
      ],
      "execution_count": null,
      "outputs": [
        {
          "output_type": "display_data",
          "data": {
            "text/html": [
              "<style>\n",
              ".list-inline {list-style: none; margin:0; padding: 0}\n",
              ".list-inline>li {display: inline-block}\n",
              ".list-inline>li:not(:last-child)::after {content: \"\\00b7\"; padding: 0 .5ex}\n",
              "</style>\n",
              "<ol class=list-inline><li>6901</li><li>16848</li></ol>\n"
            ],
            "text/markdown": "1. 6901\n2. 16848\n\n\n",
            "text/latex": "\\begin{enumerate*}\n\\item 6901\n\\item 16848\n\\end{enumerate*}\n",
            "text/plain": [
              "[1]  6901 16848"
            ]
          },
          "metadata": {}
        },
        {
          "output_type": "display_data",
          "data": {
            "text/html": [
              "<style>\n",
              ".list-inline {list-style: none; margin:0; padding: 0}\n",
              ".list-inline>li {display: inline-block}\n",
              ".list-inline>li:not(:last-child)::after {content: \"\\00b7\"; padding: 0 .5ex}\n",
              "</style>\n",
              "<ol class=list-inline><li>6901</li><li>370</li></ol>\n"
            ],
            "text/markdown": "1. 6901\n2. 370\n\n\n",
            "text/latex": "\\begin{enumerate*}\n\\item 6901\n\\item 370\n\\end{enumerate*}\n",
            "text/plain": [
              "[1] 6901  370"
            ]
          },
          "metadata": {}
        },
        {
          "output_type": "display_data",
          "data": {
            "text/html": [
              "<style>\n",
              ".list-inline {list-style: none; margin:0; padding: 0}\n",
              ".list-inline>li {display: inline-block}\n",
              ".list-inline>li:not(:last-child)::after {content: \"\\00b7\"; padding: 0 .5ex}\n",
              "</style>\n",
              "<ol class=list-inline><li>6901</li><li>371</li></ol>\n"
            ],
            "text/markdown": "1. 6901\n2. 371\n\n\n",
            "text/latex": "\\begin{enumerate*}\n\\item 6901\n\\item 371\n\\end{enumerate*}\n",
            "text/plain": [
              "[1] 6901  371"
            ]
          },
          "metadata": {}
        }
      ]
    },
    {
      "cell_type": "markdown",
      "metadata": {
        "id": "gze81qto-1oX"
      },
      "source": [
        "## Paso 3: Ejecución modelos de predicción según conjuntos de entrenamiento y validación\n",
        "\n",
        "En este caso, el dataset de ejemplos etiquetados se divide en dos (Hold-out) para entrenar y validar con conjuntos disjuntos.\n",
        "\n",
        "No se necesita modificar esta sección, aunque es válido y potencialmente interesante revisar diferentes valores de proporción entrenamiento/validación.\n"
      ]
    },
    {
      "cell_type": "code",
      "metadata": {
        "id": "D1j2-rNWMcnt",
        "colab": {
          "base_uri": "https://localhost:8080/",
          "height": 464
        },
        "outputId": "400e31a0-2551-43fd-9355-4b3cf1655ec0"
      },
      "source": [
        "library(caTools)\n",
        "\n",
        "################################################################\n",
        "# Versión simple para crear conjuntos de entrenamiento y de test.\n",
        "# Se puede dejar la proporción original de 0.70,\n",
        "# pero se puede cambiar si se piensa que puede hacer una diferencia.\n",
        "ratio <- sample(nrow(corpus.procesado),nrow(corpus.procesado)*0.70)\n",
        "training.set = corpus.procesado[ratio,]\n",
        "testing.set  = corpus.procesado[-ratio,]\n",
        "\n",
        "cat(\"Dimensiones Entrenamiento/Test\")\n",
        "dim(training.set)\n",
        "dim(testing.set)\n",
        "\n",
        "head(testing.set, 10)"
      ],
      "execution_count": null,
      "outputs": [
        {
          "output_type": "stream",
          "name": "stdout",
          "text": [
            "Dimensiones Entrenamiento/Test"
          ]
        },
        {
          "output_type": "display_data",
          "data": {
            "text/html": [
              "<style>\n",
              ".list-inline {list-style: none; margin:0; padding: 0}\n",
              ".list-inline>li {display: inline-block}\n",
              ".list-inline>li:not(:last-child)::after {content: \"\\00b7\"; padding: 0 .5ex}\n",
              "</style>\n",
              "<ol class=list-inline><li>4830</li><li>371</li></ol>\n"
            ],
            "text/markdown": "1. 4830\n2. 371\n\n\n",
            "text/latex": "\\begin{enumerate*}\n\\item 4830\n\\item 371\n\\end{enumerate*}\n",
            "text/plain": [
              "[1] 4830  371"
            ]
          },
          "metadata": {}
        },
        {
          "output_type": "display_data",
          "data": {
            "text/html": [
              "<style>\n",
              ".list-inline {list-style: none; margin:0; padding: 0}\n",
              ".list-inline>li {display: inline-block}\n",
              ".list-inline>li:not(:last-child)::after {content: \"\\00b7\"; padding: 0 .5ex}\n",
              "</style>\n",
              "<ol class=list-inline><li>2071</li><li>371</li></ol>\n"
            ],
            "text/markdown": "1. 2071\n2. 371\n\n\n",
            "text/latex": "\\begin{enumerate*}\n\\item 2071\n\\item 371\n\\end{enumerate*}\n",
            "text/plain": [
              "[1] 2071  371"
            ]
          },
          "metadata": {}
        },
        {
          "output_type": "display_data",
          "data": {
            "text/html": [
              "<table class=\"dataframe\">\n",
              "<caption>A data.frame: 10 × 371</caption>\n",
              "<thead>\n",
              "\t<tr><th></th><th scope=col>favor</th><th scope=col>cuanto</th><th scope=col>premio</th><th scope=col>chile</th><th scope=col>dio</th><th scope=col>hace</th><th scope=col>part</th><th scope=col>sera</th><th scope=col>tambien</th><th scope=col>cada</th><th scope=col>⋯</th><th scope=col>pide</th><th scope=col>onu</th><th scope=col>agua</th><th scope=col>biobio</th><th scope=col>jajajajaja</th><th scope=col>sube</th><th scope=col>cae</th><th scope=col>crisi</th><th scope=col>gustado</th><th scope=col>emoción</th></tr>\n",
              "\t<tr><th></th><th scope=col>&lt;dbl&gt;</th><th scope=col>&lt;dbl&gt;</th><th scope=col>&lt;dbl&gt;</th><th scope=col>&lt;dbl&gt;</th><th scope=col>&lt;dbl&gt;</th><th scope=col>&lt;dbl&gt;</th><th scope=col>&lt;dbl&gt;</th><th scope=col>&lt;dbl&gt;</th><th scope=col>&lt;dbl&gt;</th><th scope=col>&lt;dbl&gt;</th><th scope=col>⋯</th><th scope=col>&lt;dbl&gt;</th><th scope=col>&lt;dbl&gt;</th><th scope=col>&lt;dbl&gt;</th><th scope=col>&lt;dbl&gt;</th><th scope=col>&lt;dbl&gt;</th><th scope=col>&lt;dbl&gt;</th><th scope=col>&lt;dbl&gt;</th><th scope=col>&lt;dbl&gt;</th><th scope=col>&lt;dbl&gt;</th><th scope=col>&lt;fct&gt;</th></tr>\n",
              "</thead>\n",
              "<tbody>\n",
              "\t<tr><th scope=row>1</th><td>1</td><td>0</td><td>0</td><td>0</td><td>0</td><td>0</td><td>0</td><td>0</td><td>0</td><td>0</td><td>⋯</td><td>0</td><td>0</td><td>0</td><td>0</td><td>0</td><td>0</td><td>0</td><td>0</td><td>0</td><td>enojo   </td></tr>\n",
              "\t<tr><th scope=row>4</th><td>0</td><td>0</td><td>0</td><td>1</td><td>1</td><td>1</td><td>1</td><td>1</td><td>1</td><td>0</td><td>⋯</td><td>0</td><td>0</td><td>0</td><td>0</td><td>0</td><td>0</td><td>0</td><td>0</td><td>0</td><td>enojo   </td></tr>\n",
              "\t<tr><th scope=row>7</th><td>0</td><td>0</td><td>0</td><td>0</td><td>0</td><td>0</td><td>0</td><td>0</td><td>0</td><td>0</td><td>⋯</td><td>0</td><td>0</td><td>0</td><td>0</td><td>0</td><td>0</td><td>0</td><td>0</td><td>0</td><td>sorpresa</td></tr>\n",
              "\t<tr><th scope=row>16</th><td>0</td><td>0</td><td>0</td><td>0</td><td>0</td><td>0</td><td>0</td><td>0</td><td>0</td><td>0</td><td>⋯</td><td>0</td><td>0</td><td>0</td><td>0</td><td>0</td><td>0</td><td>0</td><td>0</td><td>0</td><td>enojo   </td></tr>\n",
              "\t<tr><th scope=row>17</th><td>0</td><td>0</td><td>0</td><td>0</td><td>0</td><td>0</td><td>0</td><td>0</td><td>0</td><td>0</td><td>⋯</td><td>0</td><td>0</td><td>0</td><td>0</td><td>0</td><td>0</td><td>0</td><td>0</td><td>0</td><td>enojo   </td></tr>\n",
              "\t<tr><th scope=row>24</th><td>0</td><td>0</td><td>0</td><td>0</td><td>0</td><td>0</td><td>0</td><td>0</td><td>0</td><td>0</td><td>⋯</td><td>0</td><td>0</td><td>0</td><td>0</td><td>0</td><td>0</td><td>0</td><td>0</td><td>0</td><td>enojo   </td></tr>\n",
              "\t<tr><th scope=row>26</th><td>0</td><td>0</td><td>0</td><td>0</td><td>0</td><td>0</td><td>0</td><td>0</td><td>0</td><td>0</td><td>⋯</td><td>0</td><td>0</td><td>0</td><td>0</td><td>0</td><td>0</td><td>0</td><td>0</td><td>0</td><td>alegria </td></tr>\n",
              "\t<tr><th scope=row>28</th><td>0</td><td>0</td><td>0</td><td>0</td><td>0</td><td>0</td><td>0</td><td>0</td><td>0</td><td>0</td><td>⋯</td><td>0</td><td>0</td><td>0</td><td>0</td><td>0</td><td>0</td><td>0</td><td>0</td><td>0</td><td>enojo   </td></tr>\n",
              "\t<tr><th scope=row>30</th><td>0</td><td>0</td><td>0</td><td>0</td><td>0</td><td>0</td><td>0</td><td>0</td><td>0</td><td>0</td><td>⋯</td><td>0</td><td>0</td><td>0</td><td>0</td><td>0</td><td>0</td><td>0</td><td>0</td><td>0</td><td>sorpresa</td></tr>\n",
              "\t<tr><th scope=row>31</th><td>0</td><td>0</td><td>0</td><td>0</td><td>0</td><td>1</td><td>0</td><td>0</td><td>0</td><td>0</td><td>⋯</td><td>0</td><td>0</td><td>0</td><td>0</td><td>0</td><td>0</td><td>0</td><td>0</td><td>0</td><td>enojo   </td></tr>\n",
              "</tbody>\n",
              "</table>\n"
            ],
            "text/markdown": "\nA data.frame: 10 × 371\n\n| <!--/--> | favor &lt;dbl&gt; | cuanto &lt;dbl&gt; | premio &lt;dbl&gt; | chile &lt;dbl&gt; | dio &lt;dbl&gt; | hace &lt;dbl&gt; | part &lt;dbl&gt; | sera &lt;dbl&gt; | tambien &lt;dbl&gt; | cada &lt;dbl&gt; | ⋯ ⋯ | pide &lt;dbl&gt; | onu &lt;dbl&gt; | agua &lt;dbl&gt; | biobio &lt;dbl&gt; | jajajajaja &lt;dbl&gt; | sube &lt;dbl&gt; | cae &lt;dbl&gt; | crisi &lt;dbl&gt; | gustado &lt;dbl&gt; | emoción &lt;fct&gt; |\n|---|---|---|---|---|---|---|---|---|---|---|---|---|---|---|---|---|---|---|---|---|---|\n| 1 | 1 | 0 | 0 | 0 | 0 | 0 | 0 | 0 | 0 | 0 | ⋯ | 0 | 0 | 0 | 0 | 0 | 0 | 0 | 0 | 0 | enojo    |\n| 4 | 0 | 0 | 0 | 1 | 1 | 1 | 1 | 1 | 1 | 0 | ⋯ | 0 | 0 | 0 | 0 | 0 | 0 | 0 | 0 | 0 | enojo    |\n| 7 | 0 | 0 | 0 | 0 | 0 | 0 | 0 | 0 | 0 | 0 | ⋯ | 0 | 0 | 0 | 0 | 0 | 0 | 0 | 0 | 0 | sorpresa |\n| 16 | 0 | 0 | 0 | 0 | 0 | 0 | 0 | 0 | 0 | 0 | ⋯ | 0 | 0 | 0 | 0 | 0 | 0 | 0 | 0 | 0 | enojo    |\n| 17 | 0 | 0 | 0 | 0 | 0 | 0 | 0 | 0 | 0 | 0 | ⋯ | 0 | 0 | 0 | 0 | 0 | 0 | 0 | 0 | 0 | enojo    |\n| 24 | 0 | 0 | 0 | 0 | 0 | 0 | 0 | 0 | 0 | 0 | ⋯ | 0 | 0 | 0 | 0 | 0 | 0 | 0 | 0 | 0 | enojo    |\n| 26 | 0 | 0 | 0 | 0 | 0 | 0 | 0 | 0 | 0 | 0 | ⋯ | 0 | 0 | 0 | 0 | 0 | 0 | 0 | 0 | 0 | alegria  |\n| 28 | 0 | 0 | 0 | 0 | 0 | 0 | 0 | 0 | 0 | 0 | ⋯ | 0 | 0 | 0 | 0 | 0 | 0 | 0 | 0 | 0 | enojo    |\n| 30 | 0 | 0 | 0 | 0 | 0 | 0 | 0 | 0 | 0 | 0 | ⋯ | 0 | 0 | 0 | 0 | 0 | 0 | 0 | 0 | 0 | sorpresa |\n| 31 | 0 | 0 | 0 | 0 | 0 | 1 | 0 | 0 | 0 | 0 | ⋯ | 0 | 0 | 0 | 0 | 0 | 0 | 0 | 0 | 0 | enojo    |\n\n",
            "text/latex": "A data.frame: 10 × 371\n\\begin{tabular}{r|lllllllllllllllllllll}\n  & favor & cuanto & premio & chile & dio & hace & part & sera & tambien & cada & ⋯ & pide & onu & agua & biobio & jajajajaja & sube & cae & crisi & gustado & emoción\\\\\n  & <dbl> & <dbl> & <dbl> & <dbl> & <dbl> & <dbl> & <dbl> & <dbl> & <dbl> & <dbl> & ⋯ & <dbl> & <dbl> & <dbl> & <dbl> & <dbl> & <dbl> & <dbl> & <dbl> & <dbl> & <fct>\\\\\n\\hline\n\t1 & 1 & 0 & 0 & 0 & 0 & 0 & 0 & 0 & 0 & 0 & ⋯ & 0 & 0 & 0 & 0 & 0 & 0 & 0 & 0 & 0 & enojo   \\\\\n\t4 & 0 & 0 & 0 & 1 & 1 & 1 & 1 & 1 & 1 & 0 & ⋯ & 0 & 0 & 0 & 0 & 0 & 0 & 0 & 0 & 0 & enojo   \\\\\n\t7 & 0 & 0 & 0 & 0 & 0 & 0 & 0 & 0 & 0 & 0 & ⋯ & 0 & 0 & 0 & 0 & 0 & 0 & 0 & 0 & 0 & sorpresa\\\\\n\t16 & 0 & 0 & 0 & 0 & 0 & 0 & 0 & 0 & 0 & 0 & ⋯ & 0 & 0 & 0 & 0 & 0 & 0 & 0 & 0 & 0 & enojo   \\\\\n\t17 & 0 & 0 & 0 & 0 & 0 & 0 & 0 & 0 & 0 & 0 & ⋯ & 0 & 0 & 0 & 0 & 0 & 0 & 0 & 0 & 0 & enojo   \\\\\n\t24 & 0 & 0 & 0 & 0 & 0 & 0 & 0 & 0 & 0 & 0 & ⋯ & 0 & 0 & 0 & 0 & 0 & 0 & 0 & 0 & 0 & enojo   \\\\\n\t26 & 0 & 0 & 0 & 0 & 0 & 0 & 0 & 0 & 0 & 0 & ⋯ & 0 & 0 & 0 & 0 & 0 & 0 & 0 & 0 & 0 & alegria \\\\\n\t28 & 0 & 0 & 0 & 0 & 0 & 0 & 0 & 0 & 0 & 0 & ⋯ & 0 & 0 & 0 & 0 & 0 & 0 & 0 & 0 & 0 & enojo   \\\\\n\t30 & 0 & 0 & 0 & 0 & 0 & 0 & 0 & 0 & 0 & 0 & ⋯ & 0 & 0 & 0 & 0 & 0 & 0 & 0 & 0 & 0 & sorpresa\\\\\n\t31 & 0 & 0 & 0 & 0 & 0 & 1 & 0 & 0 & 0 & 0 & ⋯ & 0 & 0 & 0 & 0 & 0 & 0 & 0 & 0 & 0 & enojo   \\\\\n\\end{tabular}\n",
            "text/plain": [
              "   favor cuanto premio chile dio hace part sera tambien cada ⋯ pide onu agua\n",
              "1  1     0      0      0     0   0    0    0    0       0    ⋯ 0    0   0   \n",
              "4  0     0      0      1     1   1    1    1    1       0    ⋯ 0    0   0   \n",
              "7  0     0      0      0     0   0    0    0    0       0    ⋯ 0    0   0   \n",
              "16 0     0      0      0     0   0    0    0    0       0    ⋯ 0    0   0   \n",
              "17 0     0      0      0     0   0    0    0    0       0    ⋯ 0    0   0   \n",
              "24 0     0      0      0     0   0    0    0    0       0    ⋯ 0    0   0   \n",
              "26 0     0      0      0     0   0    0    0    0       0    ⋯ 0    0   0   \n",
              "28 0     0      0      0     0   0    0    0    0       0    ⋯ 0    0   0   \n",
              "30 0     0      0      0     0   0    0    0    0       0    ⋯ 0    0   0   \n",
              "31 0     0      0      0     0   1    0    0    0       0    ⋯ 0    0   0   \n",
              "   biobio jajajajaja sube cae crisi gustado emoción \n",
              "1  0      0          0    0   0     0       enojo   \n",
              "4  0      0          0    0   0     0       enojo   \n",
              "7  0      0          0    0   0     0       sorpresa\n",
              "16 0      0          0    0   0     0       enojo   \n",
              "17 0      0          0    0   0     0       enojo   \n",
              "24 0      0          0    0   0     0       enojo   \n",
              "26 0      0          0    0   0     0       alegria \n",
              "28 0      0          0    0   0     0       enojo   \n",
              "30 0      0          0    0   0     0       sorpresa\n",
              "31 0      0          0    0   0     0       enojo   "
            ]
          },
          "metadata": {}
        }
      ]
    },
    {
      "cell_type": "markdown",
      "metadata": {
        "id": "82LcskQOnNmH"
      },
      "source": [
        "## Ejercicio 3: Interpretación de desempeño de modelos de clasificación de referencia\n",
        "\n",
        "Habiendo definido y establecido los conjuntos de entrenamiento y de test, a continuación se ejecutan dos diferentes modelos de clasificación: Árbol de Decisión y más abajo una Red Neuronal (NNET). Cada uno obtiene su resultado, mostrando sus indicadores de desempeño.\n",
        "\n",
        "Nótese que ninguno de los 2 modelos da resultados notoriamente buenos, lo cual se debe a la inherente complejidad de los casos de lenguaje natural y contar sólo con unos pocos miles de ejemplos (en total son cerca de 7.000 ejemplos, divididos en 3 clases, lo cual no alcanza a reflejar la real diversidad de palabras asociadas a cada una de las clases, cosa que se empieza a lograr desde las decenas de miles de ejemplos por clase).\n",
        "\n",
        "Sin embargo, hay algunas observaciones que salen de los resultados de desempeño, además del hecho de que la red neuronal toma cerca de 10x el tiempo del Árbol de Decisión. De estas observaciones, se pide responder lo siguiente.\n",
        "\n",
        "**Pregunta 3.1 (1 punto)** Se ve que hay un modelo con accuracy mejor que el otro, pero ¿cuál de los dos se puede considerar el mejor modelo al mirar su desempeño más completo y por qué?\n",
        "\n",
        "**Pregunta 3.2 (1 punto)** Se puede observar que el Árbol de Decisión tiene un muy mal desempeño en reconocer una de esas clases. ¿Cuál y por qué podría darse esto? (En otras palabras, ¿qué característica de este modelo puede provocar que en este caso una de las clases no sea factible de predecir?\n"
      ]
    },
    {
      "cell_type": "markdown",
      "metadata": {
        "id": "lzgDdw-S3sAg"
      },
      "source": [
        "**Árbol de Decisión**"
      ]
    },
    {
      "cell_type": "code",
      "metadata": {
        "id": "KOpqb-QInkff",
        "colab": {
          "base_uri": "https://localhost:8080/"
        },
        "outputId": "aa0701da-2028-4903-e730-7814b2b9c7de"
      },
      "source": [
        "library(caret)\n",
        "library(rpart)\n",
        "\n",
        "DT_model <- rpart(emoción ~ ., data=training.set, method=\"class\", minbucket=20)\n",
        "\n",
        "DT_predictTraining <- predict(DT_model, training.set, type = \"class\")\n",
        "DT_predictTesting <- predict(DT_model, testing.set, type = \"class\")\n",
        "cat(\"\\n\\n************* Resultados Árbol de Decisión - Testing *************\\n\")\n",
        "confusionMatrix(DT_predictTesting, as.factor(testing.set$emoción))"
      ],
      "execution_count": null,
      "outputs": [
        {
          "output_type": "stream",
          "name": "stdout",
          "text": [
            "\n",
            "\n",
            "************* Resultados Árbol de Decisión - Testing *************\n"
          ]
        },
        {
          "output_type": "display_data",
          "data": {
            "text/plain": [
              "Confusion Matrix and Statistics\n",
              "\n",
              "          Reference\n",
              "Prediction alegria enojo sorpresa\n",
              "  alegria       22     0        0\n",
              "  enojo        794   942      313\n",
              "  sorpresa       0     0        0\n",
              "\n",
              "Overall Statistics\n",
              "                                          \n",
              "               Accuracy : 0.4655          \n",
              "                 95% CI : (0.4438, 0.4872)\n",
              "    No Information Rate : 0.4549          \n",
              "    P-Value [Acc > NIR] : 0.1714          \n",
              "                                          \n",
              "                  Kappa : 0.0206          \n",
              "                                          \n",
              " Mcnemar's Test P-Value : NA              \n",
              "\n",
              "Statistics by Class:\n",
              "\n",
              "                     Class: alegria Class: enojo Class: sorpresa\n",
              "Sensitivity                 0.02696      1.00000          0.0000\n",
              "Specificity                 1.00000      0.01949          1.0000\n",
              "Pos Pred Value              1.00000      0.45974             NaN\n",
              "Neg Pred Value              0.61249      1.00000          0.8489\n",
              "Prevalence                  0.39401      0.45485          0.1511\n",
              "Detection Rate              0.01062      0.45485          0.0000\n",
              "Detection Prevalence        0.01062      0.98938          0.0000\n",
              "Balanced Accuracy           0.51348      0.50974          0.5000"
            ]
          },
          "metadata": {}
        }
      ]
    },
    {
      "cell_type": "markdown",
      "metadata": {
        "id": "7e4KsCJc36u-"
      },
      "source": [
        "**Red Neuronal**\n",
        "\n",
        "Nótese que toma varios minutos la ejecución de entrenamiento y evaluación de esta red, por lo que se recomienda hacer uso estratégico de los cambios en la sección/ejercicio 1 y 2 anteriores antes de probar."
      ]
    },
    {
      "cell_type": "code",
      "metadata": {
        "id": "XVsGNIiwceZ-",
        "colab": {
          "base_uri": "https://localhost:8080/",
          "height": 729
        },
        "outputId": "42b72309-f5aa-4651-8946-4029e7e9eb57"
      },
      "source": [
        "library(nnet)\n",
        "\n",
        "# Parámetros de nnet():\n",
        "#     size: moverse entre 5 y 60. Es la cantidad de nodos de la única capa intermedia.\n",
        "#     maxit: 20 para pruebas cortas, hasta más de 100 (varios minutos de ejecución)\n",
        "#     MaxNWts: cantidad tope de arcos de conexión. 20.000 se mantiene dentro del tope de RAM\n",
        "cat(\"Entrenando Red Neuronal\\n\")\n",
        "NN.model <- nnet(as.factor(emoción) ~ ., data=training.set, size=40, maxit=50, MaxNWts=20000)\n",
        "NN.predict <- predict(NN.model, testing.set, type=\"class\")\n",
        "\n",
        "cat(\"Resultados Red Neuronal\\n\")\n",
        "x <- testing.set[, 1:dim(corpus.procesado)[2]-1]\n",
        "y <- testing.set[, dim(corpus.procesado)[2]]\n",
        "y.predicted <- predict(NN.model, x, type = 'class')\n",
        "confusionMatrix(as.factor(y.predicted), y)\n"
      ],
      "execution_count": null,
      "outputs": [
        {
          "output_type": "stream",
          "name": "stdout",
          "text": [
            "Entrenando Red Neuronal\n",
            "# weights:  7963\n",
            "initial  value 6565.395637 \n",
            "iter  10 value 4592.475193\n",
            "iter  20 value 4426.971467\n",
            "iter  30 value 4111.713377\n",
            "iter  40 value 3583.990600\n",
            "iter  50 value 3008.236600\n",
            "final  value 3008.236600 \n",
            "stopped after 50 iterations\n",
            "Resultados Red Neuronal\n"
          ]
        },
        {
          "output_type": "display_data",
          "data": {
            "text/plain": [
              "Confusion Matrix and Statistics\n",
              "\n",
              "          Reference\n",
              "Prediction alegria enojo sorpresa\n",
              "  alegria      489   397      136\n",
              "  enojo        288   397      127\n",
              "  sorpresa      84    91       62\n",
              "\n",
              "Overall Statistics\n",
              "                                          \n",
              "               Accuracy : 0.4577          \n",
              "                 95% CI : (0.4361, 0.4795)\n",
              "    No Information Rate : 0.4273          \n",
              "    P-Value [Acc > NIR] : 0.002804        \n",
              "                                          \n",
              "                  Kappa : 0.1101          \n",
              "                                          \n",
              " Mcnemar's Test P-Value : 9.185e-08       \n",
              "\n",
              "Statistics by Class:\n",
              "\n",
              "                     Class: alegria Class: enojo Class: sorpresa\n",
              "Sensitivity                  0.5679       0.4486         0.19077\n",
              "Specificity                  0.5595       0.6501         0.89977\n",
              "Pos Pred Value               0.4785       0.4889         0.26160\n",
              "Neg Pred Value               0.6454       0.6124         0.85660\n",
              "Prevalence                   0.4157       0.4273         0.15693\n",
              "Detection Rate               0.2361       0.1917         0.02994\n",
              "Detection Prevalence         0.4935       0.3921         0.11444\n",
              "Balanced Accuracy            0.5637       0.5493         0.54527"
            ]
          },
          "metadata": {}
        }
      ]
    }
  ]
}