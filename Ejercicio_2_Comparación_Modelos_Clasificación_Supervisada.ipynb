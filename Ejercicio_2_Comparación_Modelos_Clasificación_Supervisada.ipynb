{
  "nbformat": 4,
  "nbformat_minor": 0,
  "metadata": {
    "kernelspec": {
      "display_name": "R",
      "language": "R",
      "name": "ir"
    },
    "language_info": {
      "codemirror_mode": "r",
      "file_extension": ".r",
      "mimetype": "text/x-r-source",
      "name": "R",
      "pygments_lexer": "r",
      "version": "3.3.1"
    },
    "colab": {
      "provenance": [],
      "include_colab_link": true
    }
  },
  "cells": [
    {
      "cell_type": "markdown",
      "metadata": {
        "id": "view-in-github",
        "colab_type": "text"
      },
      "source": [
        "<a href=\"https://colab.research.google.com/github/pherreragalvez/big_data_science_diploma/blob/main/Ejercicio_2_Comparaci%C3%B3n_Modelos_Clasificaci%C3%B3n_Supervisada.ipynb\" target=\"_parent\"><img src=\"https://colab.research.google.com/assets/colab-badge.svg\" alt=\"Open In Colab\"/></a>"
      ]
    },
    {
      "cell_type": "markdown",
      "metadata": {
        "id": "AEA4r6FfIRE5"
      },
      "source": [
        "# Ejercicio 2 - Mejoras y Comparación de Modelos de Clasificación\n",
        "\n",
        "Este ejercicio considera completar acciones para mejorar el rendimiento de modelos de clasificación supervisada, (similar al ejercicio 1), pero se enfoca en realizar un análisis comparativo entre diferentes modelos utilizados para entender las ventajas/desventajas de unos y otros sobre este dataset y sus condiciones.\n",
        "\n",
        "## Contexto: Análisis de éxito en campaña de marketing\n",
        "\n",
        "Fuente: https://archive.ics.uci.edu/ml/datasets/Bank+Marketing\n",
        "\n",
        "El foco está en la implementación de varios clasificadores para predecir el valor de un atributo de interés, desde un *dataset* de información de un resultados de personas contactadas por una campaña de marketing y que compraron la oferta (atributo \"OK\"), con cerca de 41.200 registros de personas contactadas.\n",
        "\n",
        "Este conjunto de datos (abierto para este tipo de usos instruccionales), consiste en 20 atributos y 1 clase de etiquetas (totalizando 21 columnas) y corresponde a los datos de una campaña telefónica a diversos clientes en Portugal, ofreciéndoles la compra de un producto bancario. En varios casos, un cliente fue contactado varias veces antes de aceptar el depósito a plazo ofrecido por la campaña (OK = yes).\n",
        "\n",
        "Algunos de los atributos relevantes son (combinando atributos categóricos, con numéricos):\n",
        "* **Datos personales**: Edad, Ocupación, Estado Civil, Nivel de Educación.\n",
        "* **Datos financieros**: Su casa tiene crédito hipotecario, default: si el crédito ha caído en quiebra; tiene un crédito de consumo.\n",
        "* **Datos de contactos de la campaña actual**: Tipo de Comunicación (celular o teléfono fijo); Mes del último contacto; Día de la semana del contacto; duración de la llamada (segundos); Contacto: N° de contactos durante la campaña; DíasAtrás: días transcurridos desde último contacto; Resultado: resultado de la última llamada (falló, no-existe, éxito)\n",
        "* **Datos socioeconómicos**: EmpTasaVar: tasa de variación de empleabilidad; IPC: índice de precios consumidor mensual; ICC: índice de confianza consumidor mensual; Euribor3m: tasa euribor de 3 meses indicador diario; NumEmpleados: cantidad de gente empleada, en indicador trimestral.\n",
        "\n",
        "Esta adaptación en particular, por el equipo de R:Solver (RSolver.com), enfrenta diferentes objetivos de aprendizaje dentro de los cursos de Big Data y Machine Learning.\n",
        "\n"
      ]
    },
    {
      "cell_type": "markdown",
      "metadata": {
        "id": "BhFF63rsMfbI"
      },
      "source": [
        "## Instrucciones Generales\n",
        "En este caso, se busca entender el comportamiento y desempeño de diferentes modelos de clasificación sobre este conjunto de datos, para predecir la variable de interés: **OK**, que servirá para predecir en casos futuros, según los datos de contactabilidad de un cliente, si el cliente aceptará o no contratar el depósito a plazo.\n",
        "\n",
        "La entrega (grupal o individual, según corresponda) se materializa en un informe donde se contestan las preguntas que se indican en las secciones de \"Preguntas\", más adelante. Se puede recurrir a ejercicios de otras fuentes, así como al material de clases.\n",
        "\n",
        "Dentro del informe se puede considerar una tabla de datos de ejecuciones comparadas de los modelos y con diferentes condiciones (balance de clases, proporciones de % entrenamiento-evaluación), apoyando las respuestas a las preguntas correspondientes.\n",
        "\n",
        "La entrega se realiza en forma de un **informe en formato PDF, adjunto por email** utilizando la plantilla de informe que está en http://dcc.rsolver.com/dcc/docs/InformeActividad.docx\n",
        "\n",
        "El informe en formato PDF debe ser subido por sólo uno de los integrantes a la siguiente URL\n",
        "\n",
        "http://aiker.ai/aiker/DocUpload.aspx (*)\n",
        "\n",
        "(*)Si hay problemas en la carga, enviar el PDF a rsandova@ing.puc.cl y cc: ayudante@aiker.ai"
      ]
    },
    {
      "cell_type": "markdown",
      "metadata": {
        "id": "nbsvny1wYwsT"
      },
      "source": [
        "## Paso 1: Instación de las librerías de modelos de clasificación\n",
        "\n",
        "Esto se ejecuta sólo una vez al comienzo de la sesión de cada persona. No se necesita volver a ejecutar con cada nueva prueba del resto de los scripts. Aquí se incluyen liberías para ejecutar todos los modelos."
      ]
    },
    {
      "cell_type": "code",
      "metadata": {
        "id": "Yr8D6ajXY2T9"
      },
      "source": [
        "install.packages('e1071')\n",
        "install.packages('caret')\n",
        "install.packages('rpart')\n",
        "install.packages('rpart.plot')\n",
        "install.packages('randomForest')\n",
        "install.packages('class')\n",
        "install.packages(\"nnet\")\n"
      ],
      "execution_count": null,
      "outputs": []
    },
    {
      "cell_type": "markdown",
      "source": [
        "##Paso 2: Carga y preprocesamiento de los datos ##\n",
        "\n",
        "A continuación se cargan el conjunto de datos desde la URL de origen. Esta versión preprocesa el dataset, realizando actividades de limpieza de datos, eliminando filas con algún NA y eliminando unas pocas columnas que se determinan como no-relevantes en el desempeño de modelos de clasificación.\n",
        "\n",
        "Adicionalmente, se realiza un balance entre las clases, reduciendo la cantidad de ejemplos de la clase mayoritaria para aproximarse a la otra.\n",
        "\n",
        "Se entiende que con estas acciones de preprocesamiento del dataset, ya se llega en mejores condiciones a este nuevo ejercicio.\n",
        "\n",
        "Este código se puede ejecutar sólo una vez para uso del dataset resultante en los siguientes pasos."
      ],
      "metadata": {
        "id": "qdnM3scrKEgl"
      }
    },
    {
      "cell_type": "code",
      "source": [
        "set.seed(999)\n",
        "\n",
        "# Se declara la URL de dónde obtener los datos\n",
        "theUrlMain <- \"http://www.rsolver.com/dcc/docs/bank-additional-full.csv\"\n",
        "\n",
        "# Se declaran los nombres de las columnas\n",
        "columnas = c(\"Edad\",\"Ocupación\",\"EstadoCivil\",\"Educación\",\"Default\",\"Hipotecario\",\"Consumo\",\"Contacto\",\"Mes\",\"Día\",\n",
        "             \"Duración\",\"NumContactos\",\"DíasAtrás\",\"Previo\",\"ResultadoPrevio\",\n",
        "             \"EmpTasaVar\", \"IPC\", \"ICC\", \"Euribor3m\", \"NumEmpleados\", \"OK\")\n",
        "\n",
        "# Se cargan datos principales a una estructura o dataset (marketing.data), asignando nombres de atributos a las columnas.\n",
        "# Nótese que se incluye la conversión de valores \"unknown\" a \"NA\" para facilitar la gestión vacíos más adelante.\n",
        "marketing.data <- read.table(file = theUrlMain, header = TRUE, sep = \";\", col.names = columnas, na.strings=c(\"unknown\",\"NA\"))\n",
        "\n",
        "# Se eliminan aquellos atributos que no aportan en el desempeño de los modelos\n",
        "# Esto se determinó en un trabajo previo, fuera de esta actividad\n",
        "marketing.data$Default <- NULL\n",
        "marketing.data$DíasAtrás <- NULL\n",
        "marketing.data$Previo <- NULL\n",
        "marketing.data$Euribor3m <- NULL\n",
        "\n",
        "# Se eliminan los registros que tienen algún NA (antes: 'unknown')\n",
        "marketing.clean <- na.omit(marketing.data)\n",
        "dim(marketing.clean) # Sólo quedan poco más de 38.000 filas (de las 41.000 originales)\n",
        "\n",
        "# Se muestran las primeras líneas del dataset, incluyendo sólo las columnas que quedaron.\n",
        "head(marketing.clean, 20)\n",
        "dim(marketing.clean)\n",
        "\n",
        "# Aquí se arman dos subconjuntos con los datos de cada una de las dos clases.\n",
        "# Se pueden ver los respectivos tamaños al terminar, evidenciando un desbalance.\n",
        "clean.data.YES <- marketing.clean[marketing.clean$OK == 'yes',]\n",
        "clean.data.NO <- marketing.clean[marketing.clean$OK == 'no',]\n",
        "cat(\"Cantidad de ejemplos por clase\\n\")\n",
        "dim(clean.data.YES) # Este es el conjunto más pequeño con poco más de 4.000 ejemplos\n",
        "dim(clean.data.NO)  # Este es mayoritario con casi 34.000 ejemplos, evidenciando desbalance entre clases\n",
        "\n",
        "# A continuación se realiza un re-balanceo de las clases (random subsampling),\n",
        "# que consiste en reducir la cantidad de ejemplos de la clase más masiva, para acercarla a la minoritaria.\n",
        "balance_ratio <- 1.2 # Se elige un balanceo de 20% más de ejemplos de la clase negativa, que la positiva\n",
        "\n",
        "clean.subdata.YES <- clean.data.YES  # No se aplica sample(): se usan todos los ejemplos de la clase OK (que es la que tiene menos ejemplos)\n",
        "clean.subdata.NO <- clean.data.NO[sample(nrow(clean.data.NO), balance_ratio*dim(clean.data.YES)[1]), ] # Se elige un subconjunto de los NO\n",
        "\n",
        "# Muestra cantidad de ejemplos contenidos en cada subconjunto\n",
        "cat(\"Cantidad de ejemplos por clase luego del balance entre clases\\n\")\n",
        "dim(clean.subdata.YES)\n",
        "dim(clean.subdata.NO)\n",
        "\n",
        "# Se juntan para el conjunto de referencia, ahora más balanceado\n",
        "clean.subdata <- rbind(clean.subdata.YES, clean.subdata.NO)\n",
        "\n",
        "summary(clean.subdata)\n"
      ],
      "metadata": {
        "id": "qWhjKB9AKc_Q",
        "colab": {
          "base_uri": "https://localhost:8080/",
          "height": 1000
        },
        "outputId": "70603b09-cf1f-4f79-fa7c-2007483dcd97"
      },
      "execution_count": null,
      "outputs": [
        {
          "output_type": "display_data",
          "data": {
            "text/html": [
              "<style>\n",
              ".list-inline {list-style: none; margin:0; padding: 0}\n",
              ".list-inline>li {display: inline-block}\n",
              ".list-inline>li:not(:last-child)::after {content: \"\\00b7\"; padding: 0 .5ex}\n",
              "</style>\n",
              "<ol class=list-inline><li>38245</li><li>17</li></ol>\n"
            ],
            "text/markdown": "1. 38245\n2. 17\n\n\n",
            "text/latex": "\\begin{enumerate*}\n\\item 38245\n\\item 17\n\\end{enumerate*}\n",
            "text/plain": [
              "[1] 38245    17"
            ]
          },
          "metadata": {}
        },
        {
          "output_type": "display_data",
          "data": {
            "text/html": [
              "<table class=\"dataframe\">\n",
              "<caption>A data.frame: 20 × 17</caption>\n",
              "<thead>\n",
              "\t<tr><th></th><th scope=col>Edad</th><th scope=col>Ocupación</th><th scope=col>EstadoCivil</th><th scope=col>Educación</th><th scope=col>Hipotecario</th><th scope=col>Consumo</th><th scope=col>Contacto</th><th scope=col>Mes</th><th scope=col>Día</th><th scope=col>Duración</th><th scope=col>NumContactos</th><th scope=col>ResultadoPrevio</th><th scope=col>EmpTasaVar</th><th scope=col>IPC</th><th scope=col>ICC</th><th scope=col>NumEmpleados</th><th scope=col>OK</th></tr>\n",
              "\t<tr><th></th><th scope=col>&lt;int&gt;</th><th scope=col>&lt;chr&gt;</th><th scope=col>&lt;chr&gt;</th><th scope=col>&lt;chr&gt;</th><th scope=col>&lt;chr&gt;</th><th scope=col>&lt;chr&gt;</th><th scope=col>&lt;chr&gt;</th><th scope=col>&lt;chr&gt;</th><th scope=col>&lt;chr&gt;</th><th scope=col>&lt;int&gt;</th><th scope=col>&lt;int&gt;</th><th scope=col>&lt;chr&gt;</th><th scope=col>&lt;dbl&gt;</th><th scope=col>&lt;dbl&gt;</th><th scope=col>&lt;dbl&gt;</th><th scope=col>&lt;dbl&gt;</th><th scope=col>&lt;chr&gt;</th></tr>\n",
              "</thead>\n",
              "<tbody>\n",
              "\t<tr><th scope=row>1</th><td>56</td><td>housemaid  </td><td>married </td><td>basic.4y           </td><td>no </td><td>no </td><td>telephone</td><td>may</td><td>mon</td><td>261</td><td>1</td><td>nonexistent</td><td>1.1</td><td>93.994</td><td>-36.4</td><td>5191</td><td>no</td></tr>\n",
              "\t<tr><th scope=row>2</th><td>57</td><td>services   </td><td>married </td><td>high.school        </td><td>no </td><td>no </td><td>telephone</td><td>may</td><td>mon</td><td>149</td><td>1</td><td>nonexistent</td><td>1.1</td><td>93.994</td><td>-36.4</td><td>5191</td><td>no</td></tr>\n",
              "\t<tr><th scope=row>3</th><td>37</td><td>services   </td><td>married </td><td>high.school        </td><td>yes</td><td>no </td><td>telephone</td><td>may</td><td>mon</td><td>226</td><td>1</td><td>nonexistent</td><td>1.1</td><td>93.994</td><td>-36.4</td><td>5191</td><td>no</td></tr>\n",
              "\t<tr><th scope=row>4</th><td>40</td><td>admin.     </td><td>married </td><td>basic.6y           </td><td>no </td><td>no </td><td>telephone</td><td>may</td><td>mon</td><td>151</td><td>1</td><td>nonexistent</td><td>1.1</td><td>93.994</td><td>-36.4</td><td>5191</td><td>no</td></tr>\n",
              "\t<tr><th scope=row>5</th><td>56</td><td>services   </td><td>married </td><td>high.school        </td><td>no </td><td>yes</td><td>telephone</td><td>may</td><td>mon</td><td>307</td><td>1</td><td>nonexistent</td><td>1.1</td><td>93.994</td><td>-36.4</td><td>5191</td><td>no</td></tr>\n",
              "\t<tr><th scope=row>6</th><td>45</td><td>services   </td><td>married </td><td>basic.9y           </td><td>no </td><td>no </td><td>telephone</td><td>may</td><td>mon</td><td>198</td><td>1</td><td>nonexistent</td><td>1.1</td><td>93.994</td><td>-36.4</td><td>5191</td><td>no</td></tr>\n",
              "\t<tr><th scope=row>7</th><td>59</td><td>admin.     </td><td>married </td><td>professional.course</td><td>no </td><td>no </td><td>telephone</td><td>may</td><td>mon</td><td>139</td><td>1</td><td>nonexistent</td><td>1.1</td><td>93.994</td><td>-36.4</td><td>5191</td><td>no</td></tr>\n",
              "\t<tr><th scope=row>9</th><td>24</td><td>technician </td><td>single  </td><td>professional.course</td><td>yes</td><td>no </td><td>telephone</td><td>may</td><td>mon</td><td>380</td><td>1</td><td>nonexistent</td><td>1.1</td><td>93.994</td><td>-36.4</td><td>5191</td><td>no</td></tr>\n",
              "\t<tr><th scope=row>10</th><td>25</td><td>services   </td><td>single  </td><td>high.school        </td><td>yes</td><td>no </td><td>telephone</td><td>may</td><td>mon</td><td> 50</td><td>1</td><td>nonexistent</td><td>1.1</td><td>93.994</td><td>-36.4</td><td>5191</td><td>no</td></tr>\n",
              "\t<tr><th scope=row>12</th><td>25</td><td>services   </td><td>single  </td><td>high.school        </td><td>yes</td><td>no </td><td>telephone</td><td>may</td><td>mon</td><td>222</td><td>1</td><td>nonexistent</td><td>1.1</td><td>93.994</td><td>-36.4</td><td>5191</td><td>no</td></tr>\n",
              "\t<tr><th scope=row>13</th><td>29</td><td>blue-collar</td><td>single  </td><td>high.school        </td><td>no </td><td>yes</td><td>telephone</td><td>may</td><td>mon</td><td>137</td><td>1</td><td>nonexistent</td><td>1.1</td><td>93.994</td><td>-36.4</td><td>5191</td><td>no</td></tr>\n",
              "\t<tr><th scope=row>14</th><td>57</td><td>housemaid  </td><td>divorced</td><td>basic.4y           </td><td>yes</td><td>no </td><td>telephone</td><td>may</td><td>mon</td><td>293</td><td>1</td><td>nonexistent</td><td>1.1</td><td>93.994</td><td>-36.4</td><td>5191</td><td>no</td></tr>\n",
              "\t<tr><th scope=row>15</th><td>35</td><td>blue-collar</td><td>married </td><td>basic.6y           </td><td>yes</td><td>no </td><td>telephone</td><td>may</td><td>mon</td><td>146</td><td>1</td><td>nonexistent</td><td>1.1</td><td>93.994</td><td>-36.4</td><td>5191</td><td>no</td></tr>\n",
              "\t<tr><th scope=row>16</th><td>54</td><td>retired    </td><td>married </td><td>basic.9y           </td><td>yes</td><td>yes</td><td>telephone</td><td>may</td><td>mon</td><td>174</td><td>1</td><td>nonexistent</td><td>1.1</td><td>93.994</td><td>-36.4</td><td>5191</td><td>no</td></tr>\n",
              "\t<tr><th scope=row>17</th><td>35</td><td>blue-collar</td><td>married </td><td>basic.6y           </td><td>yes</td><td>no </td><td>telephone</td><td>may</td><td>mon</td><td>312</td><td>1</td><td>nonexistent</td><td>1.1</td><td>93.994</td><td>-36.4</td><td>5191</td><td>no</td></tr>\n",
              "\t<tr><th scope=row>18</th><td>46</td><td>blue-collar</td><td>married </td><td>basic.6y           </td><td>yes</td><td>yes</td><td>telephone</td><td>may</td><td>mon</td><td>440</td><td>1</td><td>nonexistent</td><td>1.1</td><td>93.994</td><td>-36.4</td><td>5191</td><td>no</td></tr>\n",
              "\t<tr><th scope=row>19</th><td>50</td><td>blue-collar</td><td>married </td><td>basic.9y           </td><td>yes</td><td>yes</td><td>telephone</td><td>may</td><td>mon</td><td>353</td><td>1</td><td>nonexistent</td><td>1.1</td><td>93.994</td><td>-36.4</td><td>5191</td><td>no</td></tr>\n",
              "\t<tr><th scope=row>20</th><td>39</td><td>management </td><td>single  </td><td>basic.9y           </td><td>no </td><td>no </td><td>telephone</td><td>may</td><td>mon</td><td>195</td><td>1</td><td>nonexistent</td><td>1.1</td><td>93.994</td><td>-36.4</td><td>5191</td><td>no</td></tr>\n",
              "\t<tr><th scope=row>21</th><td>30</td><td>unemployed </td><td>married </td><td>high.school        </td><td>no </td><td>no </td><td>telephone</td><td>may</td><td>mon</td><td> 38</td><td>1</td><td>nonexistent</td><td>1.1</td><td>93.994</td><td>-36.4</td><td>5191</td><td>no</td></tr>\n",
              "\t<tr><th scope=row>22</th><td>55</td><td>blue-collar</td><td>married </td><td>basic.4y           </td><td>yes</td><td>no </td><td>telephone</td><td>may</td><td>mon</td><td>262</td><td>1</td><td>nonexistent</td><td>1.1</td><td>93.994</td><td>-36.4</td><td>5191</td><td>no</td></tr>\n",
              "</tbody>\n",
              "</table>\n"
            ],
            "text/markdown": "\nA data.frame: 20 × 17\n\n| <!--/--> | Edad &lt;int&gt; | Ocupación &lt;chr&gt; | EstadoCivil &lt;chr&gt; | Educación &lt;chr&gt; | Hipotecario &lt;chr&gt; | Consumo &lt;chr&gt; | Contacto &lt;chr&gt; | Mes &lt;chr&gt; | Día &lt;chr&gt; | Duración &lt;int&gt; | NumContactos &lt;int&gt; | ResultadoPrevio &lt;chr&gt; | EmpTasaVar &lt;dbl&gt; | IPC &lt;dbl&gt; | ICC &lt;dbl&gt; | NumEmpleados &lt;dbl&gt; | OK &lt;chr&gt; |\n|---|---|---|---|---|---|---|---|---|---|---|---|---|---|---|---|---|---|\n| 1 | 56 | housemaid   | married  | basic.4y            | no  | no  | telephone | may | mon | 261 | 1 | nonexistent | 1.1 | 93.994 | -36.4 | 5191 | no |\n| 2 | 57 | services    | married  | high.school         | no  | no  | telephone | may | mon | 149 | 1 | nonexistent | 1.1 | 93.994 | -36.4 | 5191 | no |\n| 3 | 37 | services    | married  | high.school         | yes | no  | telephone | may | mon | 226 | 1 | nonexistent | 1.1 | 93.994 | -36.4 | 5191 | no |\n| 4 | 40 | admin.      | married  | basic.6y            | no  | no  | telephone | may | mon | 151 | 1 | nonexistent | 1.1 | 93.994 | -36.4 | 5191 | no |\n| 5 | 56 | services    | married  | high.school         | no  | yes | telephone | may | mon | 307 | 1 | nonexistent | 1.1 | 93.994 | -36.4 | 5191 | no |\n| 6 | 45 | services    | married  | basic.9y            | no  | no  | telephone | may | mon | 198 | 1 | nonexistent | 1.1 | 93.994 | -36.4 | 5191 | no |\n| 7 | 59 | admin.      | married  | professional.course | no  | no  | telephone | may | mon | 139 | 1 | nonexistent | 1.1 | 93.994 | -36.4 | 5191 | no |\n| 9 | 24 | technician  | single   | professional.course | yes | no  | telephone | may | mon | 380 | 1 | nonexistent | 1.1 | 93.994 | -36.4 | 5191 | no |\n| 10 | 25 | services    | single   | high.school         | yes | no  | telephone | may | mon |  50 | 1 | nonexistent | 1.1 | 93.994 | -36.4 | 5191 | no |\n| 12 | 25 | services    | single   | high.school         | yes | no  | telephone | may | mon | 222 | 1 | nonexistent | 1.1 | 93.994 | -36.4 | 5191 | no |\n| 13 | 29 | blue-collar | single   | high.school         | no  | yes | telephone | may | mon | 137 | 1 | nonexistent | 1.1 | 93.994 | -36.4 | 5191 | no |\n| 14 | 57 | housemaid   | divorced | basic.4y            | yes | no  | telephone | may | mon | 293 | 1 | nonexistent | 1.1 | 93.994 | -36.4 | 5191 | no |\n| 15 | 35 | blue-collar | married  | basic.6y            | yes | no  | telephone | may | mon | 146 | 1 | nonexistent | 1.1 | 93.994 | -36.4 | 5191 | no |\n| 16 | 54 | retired     | married  | basic.9y            | yes | yes | telephone | may | mon | 174 | 1 | nonexistent | 1.1 | 93.994 | -36.4 | 5191 | no |\n| 17 | 35 | blue-collar | married  | basic.6y            | yes | no  | telephone | may | mon | 312 | 1 | nonexistent | 1.1 | 93.994 | -36.4 | 5191 | no |\n| 18 | 46 | blue-collar | married  | basic.6y            | yes | yes | telephone | may | mon | 440 | 1 | nonexistent | 1.1 | 93.994 | -36.4 | 5191 | no |\n| 19 | 50 | blue-collar | married  | basic.9y            | yes | yes | telephone | may | mon | 353 | 1 | nonexistent | 1.1 | 93.994 | -36.4 | 5191 | no |\n| 20 | 39 | management  | single   | basic.9y            | no  | no  | telephone | may | mon | 195 | 1 | nonexistent | 1.1 | 93.994 | -36.4 | 5191 | no |\n| 21 | 30 | unemployed  | married  | high.school         | no  | no  | telephone | may | mon |  38 | 1 | nonexistent | 1.1 | 93.994 | -36.4 | 5191 | no |\n| 22 | 55 | blue-collar | married  | basic.4y            | yes | no  | telephone | may | mon | 262 | 1 | nonexistent | 1.1 | 93.994 | -36.4 | 5191 | no |\n\n",
            "text/latex": "A data.frame: 20 × 17\n\\begin{tabular}{r|lllllllllllllllll}\n  & Edad & Ocupación & EstadoCivil & Educación & Hipotecario & Consumo & Contacto & Mes & Día & Duración & NumContactos & ResultadoPrevio & EmpTasaVar & IPC & ICC & NumEmpleados & OK\\\\\n  & <int> & <chr> & <chr> & <chr> & <chr> & <chr> & <chr> & <chr> & <chr> & <int> & <int> & <chr> & <dbl> & <dbl> & <dbl> & <dbl> & <chr>\\\\\n\\hline\n\t1 & 56 & housemaid   & married  & basic.4y            & no  & no  & telephone & may & mon & 261 & 1 & nonexistent & 1.1 & 93.994 & -36.4 & 5191 & no\\\\\n\t2 & 57 & services    & married  & high.school         & no  & no  & telephone & may & mon & 149 & 1 & nonexistent & 1.1 & 93.994 & -36.4 & 5191 & no\\\\\n\t3 & 37 & services    & married  & high.school         & yes & no  & telephone & may & mon & 226 & 1 & nonexistent & 1.1 & 93.994 & -36.4 & 5191 & no\\\\\n\t4 & 40 & admin.      & married  & basic.6y            & no  & no  & telephone & may & mon & 151 & 1 & nonexistent & 1.1 & 93.994 & -36.4 & 5191 & no\\\\\n\t5 & 56 & services    & married  & high.school         & no  & yes & telephone & may & mon & 307 & 1 & nonexistent & 1.1 & 93.994 & -36.4 & 5191 & no\\\\\n\t6 & 45 & services    & married  & basic.9y            & no  & no  & telephone & may & mon & 198 & 1 & nonexistent & 1.1 & 93.994 & -36.4 & 5191 & no\\\\\n\t7 & 59 & admin.      & married  & professional.course & no  & no  & telephone & may & mon & 139 & 1 & nonexistent & 1.1 & 93.994 & -36.4 & 5191 & no\\\\\n\t9 & 24 & technician  & single   & professional.course & yes & no  & telephone & may & mon & 380 & 1 & nonexistent & 1.1 & 93.994 & -36.4 & 5191 & no\\\\\n\t10 & 25 & services    & single   & high.school         & yes & no  & telephone & may & mon &  50 & 1 & nonexistent & 1.1 & 93.994 & -36.4 & 5191 & no\\\\\n\t12 & 25 & services    & single   & high.school         & yes & no  & telephone & may & mon & 222 & 1 & nonexistent & 1.1 & 93.994 & -36.4 & 5191 & no\\\\\n\t13 & 29 & blue-collar & single   & high.school         & no  & yes & telephone & may & mon & 137 & 1 & nonexistent & 1.1 & 93.994 & -36.4 & 5191 & no\\\\\n\t14 & 57 & housemaid   & divorced & basic.4y            & yes & no  & telephone & may & mon & 293 & 1 & nonexistent & 1.1 & 93.994 & -36.4 & 5191 & no\\\\\n\t15 & 35 & blue-collar & married  & basic.6y            & yes & no  & telephone & may & mon & 146 & 1 & nonexistent & 1.1 & 93.994 & -36.4 & 5191 & no\\\\\n\t16 & 54 & retired     & married  & basic.9y            & yes & yes & telephone & may & mon & 174 & 1 & nonexistent & 1.1 & 93.994 & -36.4 & 5191 & no\\\\\n\t17 & 35 & blue-collar & married  & basic.6y            & yes & no  & telephone & may & mon & 312 & 1 & nonexistent & 1.1 & 93.994 & -36.4 & 5191 & no\\\\\n\t18 & 46 & blue-collar & married  & basic.6y            & yes & yes & telephone & may & mon & 440 & 1 & nonexistent & 1.1 & 93.994 & -36.4 & 5191 & no\\\\\n\t19 & 50 & blue-collar & married  & basic.9y            & yes & yes & telephone & may & mon & 353 & 1 & nonexistent & 1.1 & 93.994 & -36.4 & 5191 & no\\\\\n\t20 & 39 & management  & single   & basic.9y            & no  & no  & telephone & may & mon & 195 & 1 & nonexistent & 1.1 & 93.994 & -36.4 & 5191 & no\\\\\n\t21 & 30 & unemployed  & married  & high.school         & no  & no  & telephone & may & mon &  38 & 1 & nonexistent & 1.1 & 93.994 & -36.4 & 5191 & no\\\\\n\t22 & 55 & blue-collar & married  & basic.4y            & yes & no  & telephone & may & mon & 262 & 1 & nonexistent & 1.1 & 93.994 & -36.4 & 5191 & no\\\\\n\\end{tabular}\n",
            "text/plain": [
              "   Edad Ocupación   EstadoCivil Educación           Hipotecario Consumo\n",
              "1  56   housemaid   married     basic.4y            no          no     \n",
              "2  57   services    married     high.school         no          no     \n",
              "3  37   services    married     high.school         yes         no     \n",
              "4  40   admin.      married     basic.6y            no          no     \n",
              "5  56   services    married     high.school         no          yes    \n",
              "6  45   services    married     basic.9y            no          no     \n",
              "7  59   admin.      married     professional.course no          no     \n",
              "9  24   technician  single      professional.course yes         no     \n",
              "10 25   services    single      high.school         yes         no     \n",
              "12 25   services    single      high.school         yes         no     \n",
              "13 29   blue-collar single      high.school         no          yes    \n",
              "14 57   housemaid   divorced    basic.4y            yes         no     \n",
              "15 35   blue-collar married     basic.6y            yes         no     \n",
              "16 54   retired     married     basic.9y            yes         yes    \n",
              "17 35   blue-collar married     basic.6y            yes         no     \n",
              "18 46   blue-collar married     basic.6y            yes         yes    \n",
              "19 50   blue-collar married     basic.9y            yes         yes    \n",
              "20 39   management  single      basic.9y            no          no     \n",
              "21 30   unemployed  married     high.school         no          no     \n",
              "22 55   blue-collar married     basic.4y            yes         no     \n",
              "   Contacto  Mes Día Duración NumContactos ResultadoPrevio EmpTasaVar IPC   \n",
              "1  telephone may mon 261      1            nonexistent     1.1        93.994\n",
              "2  telephone may mon 149      1            nonexistent     1.1        93.994\n",
              "3  telephone may mon 226      1            nonexistent     1.1        93.994\n",
              "4  telephone may mon 151      1            nonexistent     1.1        93.994\n",
              "5  telephone may mon 307      1            nonexistent     1.1        93.994\n",
              "6  telephone may mon 198      1            nonexistent     1.1        93.994\n",
              "7  telephone may mon 139      1            nonexistent     1.1        93.994\n",
              "9  telephone may mon 380      1            nonexistent     1.1        93.994\n",
              "10 telephone may mon  50      1            nonexistent     1.1        93.994\n",
              "12 telephone may mon 222      1            nonexistent     1.1        93.994\n",
              "13 telephone may mon 137      1            nonexistent     1.1        93.994\n",
              "14 telephone may mon 293      1            nonexistent     1.1        93.994\n",
              "15 telephone may mon 146      1            nonexistent     1.1        93.994\n",
              "16 telephone may mon 174      1            nonexistent     1.1        93.994\n",
              "17 telephone may mon 312      1            nonexistent     1.1        93.994\n",
              "18 telephone may mon 440      1            nonexistent     1.1        93.994\n",
              "19 telephone may mon 353      1            nonexistent     1.1        93.994\n",
              "20 telephone may mon 195      1            nonexistent     1.1        93.994\n",
              "21 telephone may mon  38      1            nonexistent     1.1        93.994\n",
              "22 telephone may mon 262      1            nonexistent     1.1        93.994\n",
              "   ICC   NumEmpleados OK\n",
              "1  -36.4 5191         no\n",
              "2  -36.4 5191         no\n",
              "3  -36.4 5191         no\n",
              "4  -36.4 5191         no\n",
              "5  -36.4 5191         no\n",
              "6  -36.4 5191         no\n",
              "7  -36.4 5191         no\n",
              "9  -36.4 5191         no\n",
              "10 -36.4 5191         no\n",
              "12 -36.4 5191         no\n",
              "13 -36.4 5191         no\n",
              "14 -36.4 5191         no\n",
              "15 -36.4 5191         no\n",
              "16 -36.4 5191         no\n",
              "17 -36.4 5191         no\n",
              "18 -36.4 5191         no\n",
              "19 -36.4 5191         no\n",
              "20 -36.4 5191         no\n",
              "21 -36.4 5191         no\n",
              "22 -36.4 5191         no"
            ]
          },
          "metadata": {}
        },
        {
          "output_type": "display_data",
          "data": {
            "text/html": [
              "<style>\n",
              ".list-inline {list-style: none; margin:0; padding: 0}\n",
              ".list-inline>li {display: inline-block}\n",
              ".list-inline>li:not(:last-child)::after {content: \"\\00b7\"; padding: 0 .5ex}\n",
              "</style>\n",
              "<ol class=list-inline><li>38245</li><li>17</li></ol>\n"
            ],
            "text/markdown": "1. 38245\n2. 17\n\n\n",
            "text/latex": "\\begin{enumerate*}\n\\item 38245\n\\item 17\n\\end{enumerate*}\n",
            "text/plain": [
              "[1] 38245    17"
            ]
          },
          "metadata": {}
        },
        {
          "output_type": "stream",
          "name": "stdout",
          "text": [
            "Cantidad de ejemplos por clase\n"
          ]
        },
        {
          "output_type": "display_data",
          "data": {
            "text/html": [
              "<style>\n",
              ".list-inline {list-style: none; margin:0; padding: 0}\n",
              ".list-inline>li {display: inline-block}\n",
              ".list-inline>li:not(:last-child)::after {content: \"\\00b7\"; padding: 0 .5ex}\n",
              "</style>\n",
              "<ol class=list-inline><li>4258</li><li>17</li></ol>\n"
            ],
            "text/markdown": "1. 4258\n2. 17\n\n\n",
            "text/latex": "\\begin{enumerate*}\n\\item 4258\n\\item 17\n\\end{enumerate*}\n",
            "text/plain": [
              "[1] 4258   17"
            ]
          },
          "metadata": {}
        },
        {
          "output_type": "display_data",
          "data": {
            "text/html": [
              "<style>\n",
              ".list-inline {list-style: none; margin:0; padding: 0}\n",
              ".list-inline>li {display: inline-block}\n",
              ".list-inline>li:not(:last-child)::after {content: \"\\00b7\"; padding: 0 .5ex}\n",
              "</style>\n",
              "<ol class=list-inline><li>33987</li><li>17</li></ol>\n"
            ],
            "text/markdown": "1. 33987\n2. 17\n\n\n",
            "text/latex": "\\begin{enumerate*}\n\\item 33987\n\\item 17\n\\end{enumerate*}\n",
            "text/plain": [
              "[1] 33987    17"
            ]
          },
          "metadata": {}
        },
        {
          "output_type": "stream",
          "name": "stdout",
          "text": [
            "Cantidad de ejemplos por clase luego del balance entre clases\n"
          ]
        },
        {
          "output_type": "display_data",
          "data": {
            "text/html": [
              "<style>\n",
              ".list-inline {list-style: none; margin:0; padding: 0}\n",
              ".list-inline>li {display: inline-block}\n",
              ".list-inline>li:not(:last-child)::after {content: \"\\00b7\"; padding: 0 .5ex}\n",
              "</style>\n",
              "<ol class=list-inline><li>4258</li><li>17</li></ol>\n"
            ],
            "text/markdown": "1. 4258\n2. 17\n\n\n",
            "text/latex": "\\begin{enumerate*}\n\\item 4258\n\\item 17\n\\end{enumerate*}\n",
            "text/plain": [
              "[1] 4258   17"
            ]
          },
          "metadata": {}
        },
        {
          "output_type": "display_data",
          "data": {
            "text/html": [
              "<style>\n",
              ".list-inline {list-style: none; margin:0; padding: 0}\n",
              ".list-inline>li {display: inline-block}\n",
              ".list-inline>li:not(:last-child)::after {content: \"\\00b7\"; padding: 0 .5ex}\n",
              "</style>\n",
              "<ol class=list-inline><li>5109</li><li>17</li></ol>\n"
            ],
            "text/markdown": "1. 5109\n2. 17\n\n\n",
            "text/latex": "\\begin{enumerate*}\n\\item 5109\n\\item 17\n\\end{enumerate*}\n",
            "text/plain": [
              "[1] 5109   17"
            ]
          },
          "metadata": {}
        },
        {
          "output_type": "display_data",
          "data": {
            "text/plain": [
              "      Edad        Ocupación         EstadoCivil         Educación        \n",
              " Min.   :17.00   Length:9367        Length:9367        Length:9367       \n",
              " 1st Qu.:32.00   Class :character   Class :character   Class :character  \n",
              " Median :38.00   Mode  :character   Mode  :character   Mode  :character  \n",
              " Mean   :40.21                                                           \n",
              " 3rd Qu.:48.00                                                           \n",
              " Max.   :98.00                                                           \n",
              " Hipotecario          Consumo            Contacto             Mes           \n",
              " Length:9367        Length:9367        Length:9367        Length:9367       \n",
              " Class :character   Class :character   Class :character   Class :character  \n",
              " Mode  :character   Mode  :character   Mode  :character   Mode  :character  \n",
              "                                                                            \n",
              "                                                                            \n",
              "                                                                            \n",
              "     Día               Duración       NumContactos    ResultadoPrevio   \n",
              " Length:9367        Min.   :   4.0   Min.   : 1.000   Length:9367       \n",
              " Class :character   1st Qu.: 137.0   1st Qu.: 1.000   Class :character  \n",
              " Mode  :character   Median : 253.0   Median : 2.000   Mode  :character  \n",
              "                    Mean   : 373.1   Mean   : 2.336                     \n",
              "                    3rd Qu.: 500.0   3rd Qu.: 3.000                     \n",
              "                    Max.   :4199.0   Max.   :35.000                     \n",
              "   EmpTasaVar          IPC             ICC          NumEmpleados \n",
              " Min.   :-3.400   Min.   :92.20   Min.   :-50.80   Min.   :4964  \n",
              " 1st Qu.:-1.800   1st Qu.:92.89   1st Qu.:-42.70   1st Qu.:5076  \n",
              " Median :-0.100   Median :93.44   Median :-41.80   Median :5191  \n",
              " Mean   :-0.424   Mean   :93.49   Mean   :-40.29   Mean   :5140  \n",
              " 3rd Qu.: 1.400   3rd Qu.:93.99   3rd Qu.:-36.40   3rd Qu.:5228  \n",
              " Max.   : 1.400   Max.   :94.77   Max.   :-26.90   Max.   :5228  \n",
              "      OK           \n",
              " Length:9367       \n",
              " Class :character  \n",
              " Mode  :character  \n",
              "                   \n",
              "                   \n",
              "                   "
            ]
          },
          "metadata": {}
        }
      ]
    },
    {
      "cell_type": "markdown",
      "metadata": {
        "id": "iX9lYmofTUJx"
      },
      "source": [
        "## Ejercicio 1: Preparación conjuntos de entrenamiento y evaluación\n",
        "\n",
        "En este caso, lo importante es considerar que **es posible cambiar la proporción de datos de entrenamiento y test** viendo el efecto que tiene en el desempeño de los modelos (del ejercicio 2: RandomForest, SVM, NB), viendo que alguno o varios de los modelos entregan mejores resultados considerando lo que más puede interesar, entre Accuracy, Sensitivity, Specificity.\n",
        "\n",
        "**Pregunta 1** (1.5 puntos)\n",
        "\n",
        "¿Cuál es la proporción entrenamiento/test que logra mejor desempeño y con cuál de los modelos entre RandomForest, SVM, NB?\n",
        "\n",
        "El objetivo es probar varias combinaciones cambiando la proporción de datos. Preliminarmente 4 combinaciones, desde 60%/40% hasta 90%/10%. Según los resultados de la ejecución de todos los modelos de clasificación más adelante, determinar y explicitar cuál es la proporción que logra mejores resultados o desmpeño de clasificación y cuál es la influencia del cambio de proporción de entrenamiento/test. Particularmente se espera que los alumnos determinen cómo se elige el mejor modelo (comparando Sensitivity, Specificity, Accuracy).\n",
        "\n",
        "Se pide documentar en una tabla todas las combinaciones, viendo los indicadores de desempeño más relevantes: Accuracy, Sensitivity, Specificity, **determinando cuál combinación da mejores resultados para cuál de los modelos** (RandomForest, NB, SVM), considerando que el desempeño se logra por maximizar el desempeño de la predicción de YES, además de un buen modelo balanceado (accuracy).\n"
      ]
    },
    {
      "cell_type": "code",
      "metadata": {
        "id": "bREGDVWofFwH",
        "colab": {
          "base_uri": "https://localhost:8080/",
          "height": 321
        },
        "outputId": "2d5ee0b7-a7a9-417c-cd95-8c553b6d5197"
      },
      "source": [
        "# Primero, se saca una copia del dataset para trabajar sin modificar el original\n",
        "# Esto permite hacer más modificaciones y correr este código varias veces sin alterar clean.subdata\n",
        "working.data <- clean.subdata\n",
        "\n",
        "# EJERCICIO 1\n",
        "# Ahora se configuran los conjuntos de entrenamiento y testing en una proporción\n",
        "# (por ej: 0.70 = 70% para training y el resto para evaluación o testing)\n",
        "# Se pide probar diferentes combinaciones hasta determinar cuál es la mejor en cuál de los modelos.\n",
        "# Preliminarmente 4 combinaciones: 60% vs 40%, 70% vs 30%, 80% vs 20%, 90% vs 10%,\n",
        "ratio = sample(1:nrow(working.data), size = 0.60*nrow(working.data))\n",
        "training.data = working.data[ratio,]\n",
        "testing.data = working.data[-ratio,]\n",
        "\n",
        "# Se comparan los tamaños de ejemplos para entrenamiento y evaluación.\n",
        "dim(training.data)\n",
        "dim(testing.data)\n",
        "\n",
        "head(training.data)"
      ],
      "execution_count": null,
      "outputs": [
        {
          "output_type": "display_data",
          "data": {
            "text/html": [
              "<style>\n",
              ".list-inline {list-style: none; margin:0; padding: 0}\n",
              ".list-inline>li {display: inline-block}\n",
              ".list-inline>li:not(:last-child)::after {content: \"\\00b7\"; padding: 0 .5ex}\n",
              "</style>\n",
              "<ol class=list-inline><li>5620</li><li>17</li></ol>\n"
            ],
            "text/markdown": "1. 5620\n2. 17\n\n\n",
            "text/latex": "\\begin{enumerate*}\n\\item 5620\n\\item 17\n\\end{enumerate*}\n",
            "text/plain": [
              "[1] 5620   17"
            ]
          },
          "metadata": {}
        },
        {
          "output_type": "display_data",
          "data": {
            "text/html": [
              "<style>\n",
              ".list-inline {list-style: none; margin:0; padding: 0}\n",
              ".list-inline>li {display: inline-block}\n",
              ".list-inline>li:not(:last-child)::after {content: \"\\00b7\"; padding: 0 .5ex}\n",
              "</style>\n",
              "<ol class=list-inline><li>3747</li><li>17</li></ol>\n"
            ],
            "text/markdown": "1. 3747\n2. 17\n\n\n",
            "text/latex": "\\begin{enumerate*}\n\\item 3747\n\\item 17\n\\end{enumerate*}\n",
            "text/plain": [
              "[1] 3747   17"
            ]
          },
          "metadata": {}
        },
        {
          "output_type": "display_data",
          "data": {
            "text/html": [
              "<table class=\"dataframe\">\n",
              "<caption>A data.frame: 6 × 17</caption>\n",
              "<thead>\n",
              "\t<tr><th></th><th scope=col>Edad</th><th scope=col>Ocupación</th><th scope=col>EstadoCivil</th><th scope=col>Educación</th><th scope=col>Hipotecario</th><th scope=col>Consumo</th><th scope=col>Contacto</th><th scope=col>Mes</th><th scope=col>Día</th><th scope=col>Duración</th><th scope=col>NumContactos</th><th scope=col>ResultadoPrevio</th><th scope=col>EmpTasaVar</th><th scope=col>IPC</th><th scope=col>ICC</th><th scope=col>NumEmpleados</th><th scope=col>OK</th></tr>\n",
              "\t<tr><th></th><th scope=col>&lt;int&gt;</th><th scope=col>&lt;chr&gt;</th><th scope=col>&lt;chr&gt;</th><th scope=col>&lt;chr&gt;</th><th scope=col>&lt;chr&gt;</th><th scope=col>&lt;chr&gt;</th><th scope=col>&lt;chr&gt;</th><th scope=col>&lt;chr&gt;</th><th scope=col>&lt;chr&gt;</th><th scope=col>&lt;int&gt;</th><th scope=col>&lt;int&gt;</th><th scope=col>&lt;chr&gt;</th><th scope=col>&lt;dbl&gt;</th><th scope=col>&lt;dbl&gt;</th><th scope=col>&lt;dbl&gt;</th><th scope=col>&lt;dbl&gt;</th><th scope=col>&lt;chr&gt;</th></tr>\n",
              "</thead>\n",
              "<tbody>\n",
              "\t<tr><th scope=row>12527</th><td>47</td><td>admin.     </td><td>divorced</td><td>high.school      </td><td>no </td><td>no</td><td>cellular</td><td>jul</td><td>mon</td><td>532</td><td>1</td><td>nonexistent</td><td> 1.4</td><td>93.918</td><td>-42.7</td><td>5228.1</td><td>yes</td></tr>\n",
              "\t<tr><th scope=row>39952</th><td>53</td><td>management </td><td>divorced</td><td>university.degree</td><td>yes</td><td>no</td><td>cellular</td><td>jun</td><td>mon</td><td>348</td><td>6</td><td>failure    </td><td>-1.7</td><td>94.055</td><td>-39.8</td><td>4991.6</td><td>no </td></tr>\n",
              "\t<tr><th scope=row>38090</th><td>38</td><td>admin.     </td><td>single  </td><td>university.degree</td><td>yes</td><td>no</td><td>cellular</td><td>sep</td><td>wed</td><td>153</td><td>1</td><td>success    </td><td>-3.4</td><td>92.379</td><td>-29.8</td><td>5017.5</td><td>yes</td></tr>\n",
              "\t<tr><th scope=row>36124</th><td>54</td><td>unemployed </td><td>married </td><td>basic.9y         </td><td>no </td><td>no</td><td>cellular</td><td>may</td><td>wed</td><td>193</td><td>1</td><td>success    </td><td>-1.8</td><td>92.893</td><td>-46.2</td><td>5099.1</td><td>yes</td></tr>\n",
              "\t<tr><th scope=row>27155</th><td>50</td><td>technician </td><td>married </td><td>basic.9y         </td><td>no </td><td>no</td><td>cellular</td><td>nov</td><td>fri</td><td>705</td><td>1</td><td>nonexistent</td><td>-0.1</td><td>93.200</td><td>-42.0</td><td>5195.8</td><td>yes</td></tr>\n",
              "\t<tr><th scope=row>31233</th><td>50</td><td>blue-collar</td><td>married </td><td>basic.4y         </td><td>yes</td><td>no</td><td>cellular</td><td>may</td><td>wed</td><td>146</td><td>1</td><td>failure    </td><td>-1.8</td><td>92.893</td><td>-46.2</td><td>5099.1</td><td>no </td></tr>\n",
              "</tbody>\n",
              "</table>\n"
            ],
            "text/markdown": "\nA data.frame: 6 × 17\n\n| <!--/--> | Edad &lt;int&gt; | Ocupación &lt;chr&gt; | EstadoCivil &lt;chr&gt; | Educación &lt;chr&gt; | Hipotecario &lt;chr&gt; | Consumo &lt;chr&gt; | Contacto &lt;chr&gt; | Mes &lt;chr&gt; | Día &lt;chr&gt; | Duración &lt;int&gt; | NumContactos &lt;int&gt; | ResultadoPrevio &lt;chr&gt; | EmpTasaVar &lt;dbl&gt; | IPC &lt;dbl&gt; | ICC &lt;dbl&gt; | NumEmpleados &lt;dbl&gt; | OK &lt;chr&gt; |\n|---|---|---|---|---|---|---|---|---|---|---|---|---|---|---|---|---|---|\n| 12527 | 47 | admin.      | divorced | high.school       | no  | no | cellular | jul | mon | 532 | 1 | nonexistent |  1.4 | 93.918 | -42.7 | 5228.1 | yes |\n| 39952 | 53 | management  | divorced | university.degree | yes | no | cellular | jun | mon | 348 | 6 | failure     | -1.7 | 94.055 | -39.8 | 4991.6 | no  |\n| 38090 | 38 | admin.      | single   | university.degree | yes | no | cellular | sep | wed | 153 | 1 | success     | -3.4 | 92.379 | -29.8 | 5017.5 | yes |\n| 36124 | 54 | unemployed  | married  | basic.9y          | no  | no | cellular | may | wed | 193 | 1 | success     | -1.8 | 92.893 | -46.2 | 5099.1 | yes |\n| 27155 | 50 | technician  | married  | basic.9y          | no  | no | cellular | nov | fri | 705 | 1 | nonexistent | -0.1 | 93.200 | -42.0 | 5195.8 | yes |\n| 31233 | 50 | blue-collar | married  | basic.4y          | yes | no | cellular | may | wed | 146 | 1 | failure     | -1.8 | 92.893 | -46.2 | 5099.1 | no  |\n\n",
            "text/latex": "A data.frame: 6 × 17\n\\begin{tabular}{r|lllllllllllllllll}\n  & Edad & Ocupación & EstadoCivil & Educación & Hipotecario & Consumo & Contacto & Mes & Día & Duración & NumContactos & ResultadoPrevio & EmpTasaVar & IPC & ICC & NumEmpleados & OK\\\\\n  & <int> & <chr> & <chr> & <chr> & <chr> & <chr> & <chr> & <chr> & <chr> & <int> & <int> & <chr> & <dbl> & <dbl> & <dbl> & <dbl> & <chr>\\\\\n\\hline\n\t12527 & 47 & admin.      & divorced & high.school       & no  & no & cellular & jul & mon & 532 & 1 & nonexistent &  1.4 & 93.918 & -42.7 & 5228.1 & yes\\\\\n\t39952 & 53 & management  & divorced & university.degree & yes & no & cellular & jun & mon & 348 & 6 & failure     & -1.7 & 94.055 & -39.8 & 4991.6 & no \\\\\n\t38090 & 38 & admin.      & single   & university.degree & yes & no & cellular & sep & wed & 153 & 1 & success     & -3.4 & 92.379 & -29.8 & 5017.5 & yes\\\\\n\t36124 & 54 & unemployed  & married  & basic.9y          & no  & no & cellular & may & wed & 193 & 1 & success     & -1.8 & 92.893 & -46.2 & 5099.1 & yes\\\\\n\t27155 & 50 & technician  & married  & basic.9y          & no  & no & cellular & nov & fri & 705 & 1 & nonexistent & -0.1 & 93.200 & -42.0 & 5195.8 & yes\\\\\n\t31233 & 50 & blue-collar & married  & basic.4y          & yes & no & cellular & may & wed & 146 & 1 & failure     & -1.8 & 92.893 & -46.2 & 5099.1 & no \\\\\n\\end{tabular}\n",
            "text/plain": [
              "      Edad Ocupación   EstadoCivil Educación         Hipotecario Consumo\n",
              "12527 47   admin.      divorced    high.school       no          no     \n",
              "39952 53   management  divorced    university.degree yes         no     \n",
              "38090 38   admin.      single      university.degree yes         no     \n",
              "36124 54   unemployed  married     basic.9y          no          no     \n",
              "27155 50   technician  married     basic.9y          no          no     \n",
              "31233 50   blue-collar married     basic.4y          yes         no     \n",
              "      Contacto Mes Día Duración NumContactos ResultadoPrevio EmpTasaVar IPC   \n",
              "12527 cellular jul mon 532      1            nonexistent      1.4       93.918\n",
              "39952 cellular jun mon 348      6            failure         -1.7       94.055\n",
              "38090 cellular sep wed 153      1            success         -3.4       92.379\n",
              "36124 cellular may wed 193      1            success         -1.8       92.893\n",
              "27155 cellular nov fri 705      1            nonexistent     -0.1       93.200\n",
              "31233 cellular may wed 146      1            failure         -1.8       92.893\n",
              "      ICC   NumEmpleados OK \n",
              "12527 -42.7 5228.1       yes\n",
              "39952 -39.8 4991.6       no \n",
              "38090 -29.8 5017.5       yes\n",
              "36124 -46.2 5099.1       yes\n",
              "27155 -42.0 5195.8       yes\n",
              "31233 -46.2 5099.1       no "
            ]
          },
          "metadata": {}
        }
      ]
    },
    {
      "cell_type": "markdown",
      "metadata": {
        "id": "82LcskQOnNmH"
      },
      "source": [
        "## Ejercicio 2: Comparación de desempeño de modelos de clasificación y su explicación\n",
        "\n",
        "Habiendo definido los conjuntos de entrenamiento y de test, a continuación se ejecutan unos modelos de clasificación: un RandomForest, un Naive Bayes, y un Support Vector Machine. Cada uno obtiene sus resultados, mostrando sus precisiones en desempeño. No es necesario modificar estos bloques de código. Basta con hacer los cambios en la parte del ejercicio 1 (proporción entrenamiento/test) y volver a ejecutar estos modelos para evaluar su desempeño.\n",
        "\n",
        "Una vez completado el ejercicio 1 anterior (habiendo quedado con una ejecución de mejor desempeño y habiendo realizado la comparación de los indicadores), se pueden contestar las preguntas a continuación, que se centran en interpretar y analizar comparativamente del desempeño de estos modelos.\n",
        "\n",
        "**Pregunta 2.1** (1 punto)\n",
        "\n",
        "Viendo que un balance de clases de 1.2 (sólo un 20% más de ejemplos de la clase negativa sobre la positiva), donde reduce notoriamente la cantidad de ejemplos de la clase negativa, ¿por qué considera que se logra esa mejoría, a pesar de eliminar de entrenamiento y evaluación esa cantidad de ejemplos originales? (Justifique con claridad, según lo que se conoce sobre la forma en que se entrenan los modelos).\n",
        "\n",
        "**Pregunta 2.2** (1 punto)\n",
        "\n",
        "Habiendo determinado en el ejercicio 1 cuál es el modelo que tiene mejor desempeño entre todos, con una mejor proporción de entrenamiento/test ¿qué características del modelo apoyan su mejor desempeño sobre los otros modelos, aunque la diferencia haya sido menor? (Justifique con claridad, según lo que se conoce sobre las características particulares de los modelos y por qué ese modelo muestra mejor desempeño que los otros).\n",
        "\n",
        "Recuerde que sólo se comparan los 3 modelos a continuación.\n"
      ]
    },
    {
      "cell_type": "markdown",
      "metadata": {
        "id": "EM91HnJqh7D6"
      },
      "source": [
        "**Random Forest**"
      ]
    },
    {
      "cell_type": "code",
      "metadata": {
        "id": "XUkbhaJ0CGDm",
        "colab": {
          "base_uri": "https://localhost:8080/",
          "height": 866
        },
        "outputId": "f7f7b0b1-fcf5-4c10-a99f-f396e4c8094d"
      },
      "source": [
        "library(randomForest)\n",
        "library(caret)\n",
        "\n",
        "# Random Forest\n",
        "RF_model <- randomForest(as.factor(OK) ~ ., data=training.data, method=\"class\")\n",
        "RF_predict <- predict(RF_model, testing.data, type = \"class\")\n",
        "confusionMatrix(RF_predict, as.factor(testing.data$OK), positive = 'yes')"
      ],
      "execution_count": null,
      "outputs": [
        {
          "output_type": "stream",
          "name": "stderr",
          "text": [
            "randomForest 4.7-1.1\n",
            "\n",
            "Type rfNews() to see new features/changes/bug fixes.\n",
            "\n",
            "Loading required package: ggplot2\n",
            "\n",
            "\n",
            "Attaching package: ‘ggplot2’\n",
            "\n",
            "\n",
            "The following object is masked from ‘package:randomForest’:\n",
            "\n",
            "    margin\n",
            "\n",
            "\n",
            "Loading required package: lattice\n",
            "\n",
            "Warning message in system(\"timedatectl\", intern = TRUE):\n",
            "“running command 'timedatectl' had status 1”\n"
          ]
        },
        {
          "output_type": "display_data",
          "data": {
            "text/plain": [
              "Confusion Matrix and Statistics\n",
              "\n",
              "          Reference\n",
              "Prediction   no  yes\n",
              "       no  1742  161\n",
              "       yes  276 1568\n",
              "                                          \n",
              "               Accuracy : 0.8834          \n",
              "                 95% CI : (0.8727, 0.8935)\n",
              "    No Information Rate : 0.5386          \n",
              "    P-Value [Acc > NIR] : < 2.2e-16       \n",
              "                                          \n",
              "                  Kappa : 0.7665          \n",
              "                                          \n",
              " Mcnemar's Test P-Value : 4.943e-08       \n",
              "                                          \n",
              "            Sensitivity : 0.9069          \n",
              "            Specificity : 0.8632          \n",
              "         Pos Pred Value : 0.8503          \n",
              "         Neg Pred Value : 0.9154          \n",
              "             Prevalence : 0.4614          \n",
              "         Detection Rate : 0.4185          \n",
              "   Detection Prevalence : 0.4921          \n",
              "      Balanced Accuracy : 0.8851          \n",
              "                                          \n",
              "       'Positive' Class : yes             \n",
              "                                          "
            ]
          },
          "metadata": {}
        }
      ]
    },
    {
      "cell_type": "markdown",
      "metadata": {
        "id": "pgdCy3jOmM61"
      },
      "source": [
        "**Naive Bayes**"
      ]
    },
    {
      "cell_type": "code",
      "metadata": {
        "id": "gKfTuGGxEo-f",
        "colab": {
          "base_uri": "https://localhost:8080/",
          "height": 515
        },
        "outputId": "b7a2f5b9-5709-4928-ebdd-fc134733757e"
      },
      "source": [
        "library(e1071)\n",
        "\n",
        "# Naive Bayes\n",
        "NB_model <- naiveBayes(as.factor(OK) ~ ., data=training.data)\n",
        "NB_predict <- predict(NB_model, testing.data, type = \"class\")\n",
        "confusionMatrix(NB_predict, as.factor(testing.data$OK), positive = 'yes')"
      ],
      "execution_count": null,
      "outputs": [
        {
          "output_type": "display_data",
          "data": {
            "text/plain": [
              "Confusion Matrix and Statistics\n",
              "\n",
              "          Reference\n",
              "Prediction   no  yes\n",
              "       no  1549  334\n",
              "       yes  469 1395\n",
              "                                          \n",
              "               Accuracy : 0.7857          \n",
              "                 95% CI : (0.7722, 0.7987)\n",
              "    No Information Rate : 0.5386          \n",
              "    P-Value [Acc > NIR] : < 2.2e-16       \n",
              "                                          \n",
              "                  Kappa : 0.5712          \n",
              "                                          \n",
              " Mcnemar's Test P-Value : 2.259e-06       \n",
              "                                          \n",
              "            Sensitivity : 0.8068          \n",
              "            Specificity : 0.7676          \n",
              "         Pos Pred Value : 0.7484          \n",
              "         Neg Pred Value : 0.8226          \n",
              "             Prevalence : 0.4614          \n",
              "         Detection Rate : 0.3723          \n",
              "   Detection Prevalence : 0.4975          \n",
              "      Balanced Accuracy : 0.7872          \n",
              "                                          \n",
              "       'Positive' Class : yes             \n",
              "                                          "
            ]
          },
          "metadata": {}
        }
      ]
    },
    {
      "cell_type": "markdown",
      "source": [
        "**Support Vector Machine**"
      ],
      "metadata": {
        "id": "FJPXgCYIYU78"
      }
    },
    {
      "cell_type": "code",
      "source": [
        "library(e1071)\n",
        "\n",
        "# Support Vector Machine (NOTA: toma algunos minutos su ejecución)\n",
        "SVM_model <- svm(as.factor(OK) ~ ., data = training.data, cost = 10, scale = FALSE)\n",
        "SVM_predict <- predict(SVM_model, testing.data, type = \"class\")\n",
        "confusionMatrix(SVM_predict, as.factor(testing.data$OK), positive = 'yes')\n"
      ],
      "metadata": {
        "id": "p_46U2nQYT3n",
        "colab": {
          "base_uri": "https://localhost:8080/",
          "height": 515
        },
        "outputId": "272d0601-2a13-4f29-a1ee-92d489cfbc8f"
      },
      "execution_count": null,
      "outputs": [
        {
          "output_type": "display_data",
          "data": {
            "text/plain": [
              "Confusion Matrix and Statistics\n",
              "\n",
              "          Reference\n",
              "Prediction   no  yes\n",
              "       no  1631  305\n",
              "       yes  387 1424\n",
              "                                          \n",
              "               Accuracy : 0.8153          \n",
              "                 95% CI : (0.8025, 0.8276)\n",
              "    No Information Rate : 0.5386          \n",
              "    P-Value [Acc > NIR] : < 2.2e-16       \n",
              "                                          \n",
              "                  Kappa : 0.6297          \n",
              "                                          \n",
              " Mcnemar's Test P-Value : 0.002076        \n",
              "                                          \n",
              "            Sensitivity : 0.8236          \n",
              "            Specificity : 0.8082          \n",
              "         Pos Pred Value : 0.7863          \n",
              "         Neg Pred Value : 0.8425          \n",
              "             Prevalence : 0.4614          \n",
              "         Detection Rate : 0.3800          \n",
              "   Detection Prevalence : 0.4833          \n",
              "      Balanced Accuracy : 0.8159          \n",
              "                                          \n",
              "       'Positive' Class : yes             \n",
              "                                          "
            ]
          },
          "metadata": {}
        }
      ]
    },
    {
      "cell_type": "markdown",
      "source": [
        "# Ejercicio 3: Implementación de una Red Neuronal\n",
        "A continuación se declara, entrena y evalúa un modelo de Red Neuronal. Esta primera declaración viene con una configuración inicial, que se podrá modificar para ver posibles mejoras en el desempeño de esta red.\n",
        "\n",
        "Esta configuración considera lo siguiente:\n",
        "\n",
        "*     **Nótese que sólo se utilizan algunos atributos del dataset**, que vienen en la declaración de la fórmula (1er argumento) de nnet(). Se pueden eliminar algunos y ver si mejora el desempeño.\n",
        "\n",
        "*     Se usa una única capa escondida o intermedia. Su cantidad de nodos está dada por el atributo 'size'. Se puede agrandar o reducir para ver posibles mejoras.\n",
        "\n",
        "*     La cantidad de iteraciones para mejorar el entrenamiento se da por el atributo 'maxit'. Se puede aumentar, esperando mejorar el desempeño.\n",
        "\n",
        "*     El atributo 'maxNWts' limita el tamaño interno de la red, que dadas las restricciones de capacidad de procesamiento que entrega Google Colab, conviene acotarlo, para evitar sobrepasar la memora y tener una ejecución fallida. No es necesario modificar este atributo.\n",
        "\n",
        "Hay otros atributos posibles de analizar y modificar en https://www.rdocumentation.org/packages/nnet/versions/7.3-14/topics/nnet. Nótese que la configuración por defecto usa una activación logística, pero es posible aplicar softmax o linout, pero eso requiere de parámetros adicionales.\n",
        "\n",
        "Ojo/recomendación: dada la naturaleza aleatoria del comportamiento del entrenamiento, en ocasiones la red neuronal no entrega resultados para la clase menos representada y genera un error. En cuyo caso, sólo basta con volver a ejecutar el código, para que - aleatoriamente - logre dar resultados en dicha clase.\n",
        "\n",
        "**Ejercicio 3:**\n",
        "\n",
        "Probar diferentes versiones del modelo, cambiando:\n",
        "*     Los atributos considerados. Por simplicidad se recomienda sólo eliminar algunos de la lista original, para ver si en alguna ejecución esa eliminación genera mejores resultados.\n",
        "*     La cantidad de nodos de la capa escondida (size).\n",
        "*     La cantidad de iteraciones (maxit).\n",
        "\n",
        "Por simplicidad de este ejercicio, se recomienda sólo probar 4 combinaciones de cada uno de los 3 elementos a cambiar. Se pueden elegir los valores de esos cambios y **documentar en una tabla de ejecuciones comparadas** para contestar la pregunta 3.1.\n",
        "\n",
        "**Preg 3.1** (1.8 puntos): ¿Cuáles son los parámetros de ejecución del modelo que dan el mejor desempeño de la Red Neuronal?\n",
        "\n",
        "**Preg 3.2** (0.7 puntos): ¿Logra superar al modelo Random Forest? ¿Por que considera que si o no y qué caracteristica distinta entre estos 2 modelos hace la diferencia? (En cualquier caso, se pide una posible y teórica explicación de por qué es mejor/peor que ese otro modelo.)"
      ],
      "metadata": {
        "id": "C0lOmoAidQun"
      }
    },
    {
      "cell_type": "code",
      "source": [
        "library(nnet)\n",
        "\n",
        "# Red Neuronal\n",
        "# Lista original de atributos: Edad+Ocupación+EstadoCivil+Educación+Duración+NumContactos+NumContactos+EmpTasaVar+NumEmpleados\n",
        "NN_model <- nnet(as.factor(OK) ~ Edad+Ocupación+EstadoCivil+Educación+Duración+NumContactos+NumContactos+EmpTasaVar+NumEmpleados,\n",
        "                  data=training.data, size=25, maxit=3000, MaxNWts=10000)\n",
        "NN_predict <- predict(NN_model, testing.data, type=\"class\")\n",
        "\n",
        "# A continuación se muestra el resultado de evaluación\n",
        "cat(\"Resultados Red Neuronal\\n\")\n",
        "confTable <- table(NN_predict, testing.data$OK)\n",
        "confTable\n",
        "\n",
        "accuracy <- (confTable[1,1] + confTable[2,2]) / dim(testing.data)[1]\n",
        "cat(\"\\nAccuracy:    \", accuracy)\n",
        "\n",
        "sensitivity <- confTable[1,1] / (confTable[1,1] + confTable[1,2])\n",
        "cat(\"\\nSensitivity: \", sensitivity)\n",
        "\n",
        "specificity <- confTable[2,2] / (confTable[2,1] + confTable[2,2])\n",
        "cat(\"\\nSpecificity: \", specificity)"
      ],
      "metadata": {
        "id": "WkQR7kxddP_P",
        "colab": {
          "base_uri": "https://localhost:8080/",
          "height": 320
        },
        "outputId": "3bcf63d3-482a-451a-d019-0251f18f7d8c"
      },
      "execution_count": null,
      "outputs": [
        {
          "output_type": "stream",
          "name": "stdout",
          "text": [
            "# weights:  626\n",
            "initial  value 6393.197826 \n",
            "iter  10 value 3866.258903\n",
            "final  value 3866.255822 \n",
            "converged\n",
            "Resultados Red Neuronal\n"
          ]
        },
        {
          "output_type": "display_data",
          "data": {
            "text/plain": [
              "          \n",
              "NN_predict   no  yes\n",
              "        no 2018 1729"
            ]
          },
          "metadata": {}
        },
        {
          "output_type": "error",
          "ename": "ERROR",
          "evalue": "ignored",
          "traceback": [
            "Error in `[.default`(confTable, 2, 2): subscript out of bounds\nTraceback:\n",
            "1. confTable[2, 2]",
            "2. `[.table`(confTable, 2, 2)"
          ]
        }
      ]
    },
    {
      "cell_type": "markdown",
      "metadata": {
        "id": "yEKlHstgEOG1"
      },
      "source": [
        "\n",
        "---\n",
        "\n",
        "**Complemento: Ejercicio de comprobación manual**\n",
        "\n",
        "\n",
        "Para verificar que alguno de los modelos realmente predice correctamente, se comprueba con los datos de una persona en particular, pidiendo la predicción al modelo. A continuación hay dos ejemplos, que se pueden modificar para ver su resultado, cambiando valores y también, cambiando el modelo a utilizar en la predicción. No se necesita modificar, ni comentar esta parte en la entrega, sino que se entrega como complemento para quienes tengan el interés de ver cómo se aplica un modelo entrenado en un contexto práctico (en producción)"
      ]
    },
    {
      "cell_type": "code",
      "metadata": {
        "id": "tZaYo2bG58aA"
      },
      "source": [
        "# Ejemplo 1: La predicción debería ser \"YES\"\n",
        "sample_x <- clean.subdata[1,]\n",
        "sample_x[1,1] <- 32       # Edad\n",
        "sample_x[1,2] <- 'admin.' # Ocupación\n",
        "sample_x[1,3] <- 'single' # EstadoCivil\n",
        "sample_x[1,4] <- 'university.degree'  # Educación\n",
        "sample_x\n",
        "\n",
        "prediction <- predict(RF_model, sample_x)\n",
        "prediction\n",
        "\n",
        "\n",
        "# Ejemplo 2: La predicción debería ser \"NO\"\n",
        "sample_x2 <- clean.subdata[1,]\n",
        "sample_x2[1,10] <- 50   # Duración\n",
        "sample_x2\n",
        "\n",
        "prediction <- predict(RF_model, sample_x2)\n",
        "prediction\n"
      ],
      "execution_count": null,
      "outputs": []
    }
  ]
}